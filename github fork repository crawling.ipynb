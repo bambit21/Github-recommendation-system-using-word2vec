{
 "cells": [
  {
   "cell_type": "markdown",
   "metadata": {
    "collapsed": false
   },
   "source": [
    "## github fork repository crawling using selenium\n"
   ]
  },
  {
   "cell_type": "code",
   "execution_count": 1,
   "metadata": {
    "collapsed": true
   },
   "outputs": [],
   "source": [
    "from selenium import webdriver\n",
    "import numpy as np\n",
    "import time\n",
    "import pandas as pd\n",
    "import datetime\n",
    "import requests\n",
    "import json"
   ]
  },
  {
   "cell_type": "code",
   "execution_count": 2,
   "metadata": {
    "collapsed": false
   },
   "outputs": [],
   "source": [
    "def send_slack(channel, username, icon_emoji, message):\n",
    "    # base_url = \"\" : github incoming webhook key\n",
    "    payload = {\n",
    "       \"channel\": channel,\n",
    "       \"username\": username,\n",
    "       \"icon_emoji\": icon_emoji,\n",
    "       \"text\": message\n",
    "       }\n",
    "    response = requests.post(base_url, data=json.dumps(payload))\n",
    "    print(response.content)\n",
    "\n",
    "def slack(function):\n",
    "    def wrapper(*args, **kwargs):\n",
    "        name = function.__name__\n",
    "        start_time = time.time()\n",
    "        current_time = str(datetime.datetime.now())\n",
    "        send_slack(\"project\", \"databot\", \":ghost:\", \"작업을 실행합니다 - {time}\".format(time=current_time))\n",
    "        \n",
    "        try:\n",
    "            result = function(*args, **kwargs)\n",
    "            current_time = str(datetime.datetime.now())\n",
    "            end_time = time.time()\n",
    "            send_slack(\"project\", \"databot\", \":ghost:\", \"작업이 끝났습니다 - 걸린시간은 {time}s 입니다.\".format(time=int(end_time-start_time)))\n",
    "            \n",
    "        except:\n",
    "            send_slack(\"project\", \"databot\", \":ghost:\", \"오류가 났어요 다시 봐주세요.\")\n",
    "            \n",
    "        current_time = str(datetime.datetime.now())\n",
    "        end_time = time.time()\n",
    "        send_slack(\"dss\", \"databot\", \":ghost:\", \"작업이 끝났습니다 - 걸린시간은 {time}s 입니다.\".format(time=int(end_time-start_time)))\n",
    "       \n",
    "    return wrapper"
   ]
  },
  {
   "cell_type": "code",
   "execution_count": 6,
   "metadata": {
    "collapsed": true
   },
   "outputs": [],
   "source": [
    "url = \"https://github.com/search?utf8=%E2%9C%93&q=language%3APython+location%3A%22republic+korea%22\""
   ]
  },
  {
   "cell_type": "code",
   "execution_count": 7,
   "metadata": {
    "collapsed": false
   },
   "outputs": [
    {
     "ename": "WebDriverException",
     "evalue": "Message: Can't load the profile. Profile Dir: C:\\Users\\Bsy\\AppData\\Local\\Temp\\tmpn7iu463n If you specified a log_file in the FirefoxBinary constructor, check it for details.\n",
     "output_type": "error",
     "traceback": [
      "\u001b[1;31m---------------------------------------------------------------------------\u001b[0m",
      "\u001b[1;31mWebDriverException\u001b[0m                        Traceback (most recent call last)",
      "\u001b[1;32m<ipython-input-7-e16d186e0718>\u001b[0m in \u001b[0;36m<module>\u001b[1;34m()\u001b[0m\n\u001b[1;32m----> 1\u001b[1;33m \u001b[0mdriver\u001b[0m \u001b[1;33m=\u001b[0m \u001b[0mwebdriver\u001b[0m\u001b[1;33m.\u001b[0m\u001b[0mFirefox\u001b[0m\u001b[1;33m(\u001b[0m\u001b[1;33m)\u001b[0m\u001b[1;33m\u001b[0m\u001b[0m\n\u001b[0m\u001b[0;32m      2\u001b[0m \u001b[0mdriver\u001b[0m\u001b[1;33m.\u001b[0m\u001b[0mget\u001b[0m\u001b[1;33m(\u001b[0m\u001b[0murl\u001b[0m\u001b[1;33m)\u001b[0m\u001b[1;33m\u001b[0m\u001b[0m\n\u001b[0;32m      3\u001b[0m \u001b[0mtime\u001b[0m\u001b[1;33m.\u001b[0m\u001b[0msleep\u001b[0m\u001b[1;33m(\u001b[0m\u001b[1;36m2\u001b[0m\u001b[1;33m)\u001b[0m\u001b[1;33m\u001b[0m\u001b[0m\n",
      "\u001b[1;32mC:\\Users\\Bsy\\Anaconda3\\lib\\site-packages\\selenium\\webdriver\\firefox\\webdriver.py\u001b[0m in \u001b[0;36m__init__\u001b[1;34m(self, firefox_profile, firefox_binary, timeout, capabilities, proxy, executable_path, firefox_options)\u001b[0m\n\u001b[0;32m     79\u001b[0m \u001b[1;33m\u001b[0m\u001b[0m\n\u001b[0;32m     80\u001b[0m             executor = ExtensionConnection(\"127.0.0.1\", self.profile,\n\u001b[1;32m---> 81\u001b[1;33m                                            self.binary, timeout)\n\u001b[0m\u001b[0;32m     82\u001b[0m             RemoteWebDriver.__init__(self,\n\u001b[0;32m     83\u001b[0m                 \u001b[0mcommand_executor\u001b[0m\u001b[1;33m=\u001b[0m\u001b[0mexecutor\u001b[0m\u001b[1;33m,\u001b[0m\u001b[1;33m\u001b[0m\u001b[0m\n",
      "\u001b[1;32mC:\\Users\\Bsy\\Anaconda3\\lib\\site-packages\\selenium\\webdriver\\firefox\\extension_connection.py\u001b[0m in \u001b[0;36m__init__\u001b[1;34m(self, host, firefox_profile, firefox_binary, timeout)\u001b[0m\n\u001b[0;32m     49\u001b[0m         \u001b[0mself\u001b[0m\u001b[1;33m.\u001b[0m\u001b[0mprofile\u001b[0m\u001b[1;33m.\u001b[0m\u001b[0madd_extension\u001b[0m\u001b[1;33m(\u001b[0m\u001b[1;33m)\u001b[0m\u001b[1;33m\u001b[0m\u001b[0m\n\u001b[0;32m     50\u001b[0m \u001b[1;33m\u001b[0m\u001b[0m\n\u001b[1;32m---> 51\u001b[1;33m         \u001b[0mself\u001b[0m\u001b[1;33m.\u001b[0m\u001b[0mbinary\u001b[0m\u001b[1;33m.\u001b[0m\u001b[0mlaunch_browser\u001b[0m\u001b[1;33m(\u001b[0m\u001b[0mself\u001b[0m\u001b[1;33m.\u001b[0m\u001b[0mprofile\u001b[0m\u001b[1;33m,\u001b[0m \u001b[0mtimeout\u001b[0m\u001b[1;33m=\u001b[0m\u001b[0mtimeout\u001b[0m\u001b[1;33m)\u001b[0m\u001b[1;33m\u001b[0m\u001b[0m\n\u001b[0m\u001b[0;32m     52\u001b[0m         \u001b[0m_URL\u001b[0m \u001b[1;33m=\u001b[0m \u001b[1;34m\"http://%s:%d/hub\"\u001b[0m \u001b[1;33m%\u001b[0m \u001b[1;33m(\u001b[0m\u001b[0mHOST\u001b[0m\u001b[1;33m,\u001b[0m \u001b[0mPORT\u001b[0m\u001b[1;33m)\u001b[0m\u001b[1;33m\u001b[0m\u001b[0m\n\u001b[0;32m     53\u001b[0m         RemoteConnection.__init__(\n",
      "\u001b[1;32mC:\\Users\\Bsy\\Anaconda3\\lib\\site-packages\\selenium\\webdriver\\firefox\\firefox_binary.py\u001b[0m in \u001b[0;36mlaunch_browser\u001b[1;34m(self, profile, timeout)\u001b[0m\n\u001b[0;32m     66\u001b[0m \u001b[1;33m\u001b[0m\u001b[0m\n\u001b[0;32m     67\u001b[0m         \u001b[0mself\u001b[0m\u001b[1;33m.\u001b[0m\u001b[0m_start_from_profile_path\u001b[0m\u001b[1;33m(\u001b[0m\u001b[0mself\u001b[0m\u001b[1;33m.\u001b[0m\u001b[0mprofile\u001b[0m\u001b[1;33m.\u001b[0m\u001b[0mpath\u001b[0m\u001b[1;33m)\u001b[0m\u001b[1;33m\u001b[0m\u001b[0m\n\u001b[1;32m---> 68\u001b[1;33m         \u001b[0mself\u001b[0m\u001b[1;33m.\u001b[0m\u001b[0m_wait_until_connectable\u001b[0m\u001b[1;33m(\u001b[0m\u001b[0mtimeout\u001b[0m\u001b[1;33m=\u001b[0m\u001b[0mtimeout\u001b[0m\u001b[1;33m)\u001b[0m\u001b[1;33m\u001b[0m\u001b[0m\n\u001b[0m\u001b[0;32m     69\u001b[0m \u001b[1;33m\u001b[0m\u001b[0m\n\u001b[0;32m     70\u001b[0m     \u001b[1;32mdef\u001b[0m \u001b[0mkill\u001b[0m\u001b[1;33m(\u001b[0m\u001b[0mself\u001b[0m\u001b[1;33m)\u001b[0m\u001b[1;33m:\u001b[0m\u001b[1;33m\u001b[0m\u001b[0m\n",
      "\u001b[1;32mC:\\Users\\Bsy\\Anaconda3\\lib\\site-packages\\selenium\\webdriver\\firefox\\firefox_binary.py\u001b[0m in \u001b[0;36m_wait_until_connectable\u001b[1;34m(self, timeout)\u001b[0m\n\u001b[0;32m    104\u001b[0m                       \u001b[1;34m\"Dir: %s If you specified a log_file in the \"\u001b[0m\u001b[1;33m\u001b[0m\u001b[0m\n\u001b[0;32m    105\u001b[0m                       \u001b[1;34m\"FirefoxBinary constructor, check it for details.\"\u001b[0m\u001b[1;33m\u001b[0m\u001b[0m\n\u001b[1;32m--> 106\u001b[1;33m                       % (self.profile.path))\n\u001b[0m\u001b[0;32m    107\u001b[0m             \u001b[0mcount\u001b[0m \u001b[1;33m+=\u001b[0m \u001b[1;36m1\u001b[0m\u001b[1;33m\u001b[0m\u001b[0m\n\u001b[0;32m    108\u001b[0m             \u001b[0mtime\u001b[0m\u001b[1;33m.\u001b[0m\u001b[0msleep\u001b[0m\u001b[1;33m(\u001b[0m\u001b[1;36m1\u001b[0m\u001b[1;33m)\u001b[0m\u001b[1;33m\u001b[0m\u001b[0m\n",
      "\u001b[1;31mWebDriverException\u001b[0m: Message: Can't load the profile. Profile Dir: C:\\Users\\Bsy\\AppData\\Local\\Temp\\tmpn7iu463n If you specified a log_file in the FirefoxBinary constructor, check it for details.\n"
     ]
    }
   ],
   "source": [
    "driver = webdriver.Firefox()\n",
    "driver.get(url)\n",
    "time.sleep(2)"
   ]
  },
  {
   "cell_type": "code",
   "execution_count": null,
   "metadata": {
    "collapsed": true
   },
   "outputs": [],
   "source": [
    "# 코드가 매우 더럽습니다..하하.... 코딩 공부한지 얼마 안되서..  def에 적응하려고 하고 있습니다"
   ]
  },
  {
   "cell_type": "code",
   "execution_count": 77,
   "metadata": {
    "collapsed": false,
    "scrolled": false
   },
   "outputs": [
    {
     "name": "stdout",
     "output_type": "stream",
     "text": [
      "b'ok'\n",
      "b'ok'\n"
     ]
    }
   ],
   "source": [
    "start_time = time.time()\n",
    "current_time = str(datetime.datetime.now())\n",
    "send_slack(\"project\", \"databot\", \":ghost:\", \"작업을 실행합니다 - {time}\".format(time=current_time))\n",
    "\n",
    "try:\n",
    "    user_n = driver.find_elements_by_css_selector(\"div.user-list-info\")\n",
    "    user_df = pd.DataFrame(columns=[\"Full_name\",\"User_name\",\"Country\",\"Mail_address\",\"Webpage\",\"Join_date\",\"Followers\",\\\n",
    "                                        \"Starred\",\"Following\",\"Contributions\"], )\n",
    "    repo_df = pd.DataFrame(columns=[\"ID\", \"master\",\"repo_name\", \"Watch\", \"Star\", \"Fork\", \"commit\", \"branch\", \"releases\", \"contributor\", \\\n",
    "                                    \"repo_last_commit\",\"lan_1\", \"per_1\", \"lan_2\", \"per_2\", \"lan_3\", \"per_3\", \"lan_4\", \"per_4\", \"lan_5\",\"pre_5\", \\\n",
    "                                    \"lan_6\",\"pre_6\", \"lan_7\",\"pre_7\",\"readme_text\"])\n",
    "    for b in range(20):\n",
    "        for a in range(len(user_n)): \n",
    "            driver.find_elements_by_css_selector(\"div.user-list-info\")[a].find_element_by_css_selector(\"a\").click()\n",
    "            time.sleep(1.4)\n",
    "\n",
    "            user_dict = {\n",
    "            \"Full_name\": driver.find_element_by_css_selector(\"div.vcard-fullname\").text,\n",
    "            \"User_name\": driver.find_element_by_css_selector(\"div.vcard-username\").text,\n",
    "            \"Country\": driver.find_element_by_css_selector(\"li[aria-label='Home location\").text if \"Home location\" in  driver.page_source else \"\",\n",
    "            \"Mail_address\": driver.find_element_by_css_selector(\"li[aria-label='Email\").text if \"Email\" in  driver.page_source else \"\",\n",
    "            \"Webpage\": driver.find_element_by_css_selector(\"li[aria-label='Blog or website\").text if \"Blog or website\" in  driver.page_source else \"\",\n",
    "            \"Join_date\": driver.find_element_by_css_selector(\"li[aria-label='Member since']\").text,\n",
    "            \"Followers\": driver.find_element_by_css_selector(\"div.vcard-stats\").text.split(\"\\n\")[0],\n",
    "            \"Starred\": driver.find_element_by_css_selector(\"div.vcard-stats\").text.split(\"\\n\")[2],\n",
    "            \"Following\": driver.find_element_by_css_selector(\"div.vcard-stats\").text.split(\"\\n\")[4],\n",
    "            \"Contributions\": driver.find_elements_by_css_selector(\"div.boxed-group.flush\")[-1].find_element_by_css_selector(\"h3\").text.split(\" \")[0],   \n",
    "            }\n",
    "\n",
    "\n",
    "            user_df.loc[len(user_df)] = user_dict\n",
    "\n",
    "\n",
    "            Table = driver.find_elements_by_css_selector(\"div.column.three-fourths\")\n",
    "            Table[0].find_element_by_css_selector(\"svg.octicon.octicon-repo\").click()\n",
    "            time.sleep(1.5)\n",
    "\n",
    "            Contents = driver.find_elements_by_css_selector(\"div.repo-list-item.public.fork\")\n",
    "            for k in range(len(Contents)):\n",
    "                Contents = driver.find_elements_by_css_selector(\"div.repo-list-item.public.fork\")\n",
    "                ID = driver.find_element_by_css_selector(\"div.vcard-username\").text    #ID\n",
    "\n",
    "                if len(Contents[k].find_elements_by_css_selector(\"div.repo-list-stats\")[0].text.split(\" \")) == 3:\n",
    "                    Contents[k].find_element_by_css_selector(\"p.repo-list-info\").find_element_by_css_selector(\"a\").click() # fork의 원본으로 클릭\n",
    "                    if \"blankslate blankslate-narrow text-left\" in driver.page_source:\n",
    "                        driver.execute_script(\"window.history.go(-1)\")\n",
    "                    else:\n",
    "    \n",
    "                        master = driver.find_element_by_css_selector(\"span.author\").text\n",
    "                        repo_name = driver.find_element_by_css_selector(\"h1.public\").find_elements_by_css_selector(\"a\")[-1].text    # repository\n",
    "\n",
    "                        social_list = [\n",
    "                            driver.find_elements_by_css_selector(\"a.social-count\")[0].text,    #Watch\n",
    "                            driver.find_elements_by_css_selector(\"a.social-count\")[1].text,    #Star\n",
    "                            driver.find_elements_by_css_selector(\"a.social-count\")[2].text,    #Fork\n",
    "                            ]\n",
    "\n",
    "                        repo_content = driver.find_element_by_css_selector(\"div.repository-content\")\n",
    "                        repo_list = [\n",
    "                            repo_content.find_elements_by_css_selector(\"span.num.text-emphasized\")[0].text,    #commit\n",
    "                            repo_content.find_elements_by_css_selector(\"span.num.text-emphasized\")[1].text,    #branch\n",
    "                            repo_content.find_elements_by_css_selector(\"span.num.text-emphasized\")[2].text,    #releases\n",
    "                            repo_content.find_elements_by_css_selector(\"span.num.text-emphasized\")[3].text,    #contributor\n",
    "                            ]    \n",
    "                        repo_last_commit = driver.find_element_by_css_selector(\"div.commit-tease.js-details-container\").\\\n",
    "                        find_element_by_css_selector(\"relative-time\").text if \"relative-time\" in  driver.page_source else \"\"\n",
    "\n",
    "                        time.sleep(1.4)\n",
    "                        \n",
    "                        # language list part\n",
    "                        try:\n",
    "                            driver.find_element_by_css_selector(\"div.repository-lang-stats-graph.js-toggle-lang-stats\").click()\n",
    "                            language_n = driver.find_element_by_css_selector(\"ol.repository-lang-stats-numbers\").find_elements_by_css_selector(\"li\")\n",
    "                            language_list = [] \n",
    "                            for i in range(len(language_n)):\n",
    "                                language_list.append(language_n[i].text.split(\" \")[0])\n",
    "                                language_list.append(float(language_n[i].text.split(\" \")[1][:-1]))\n",
    "                            if len(language_n) != 7:\n",
    "                                for i in range(7 - len(language_n)):\n",
    "                                    language_list.append(\"\")\n",
    "                                    language_list.append(0.0)\n",
    "                        except:\n",
    "                            language_list = [\"\", 0.0] * 7\n",
    "\n",
    "                        if 'markdown-body' in driver.page_source:\n",
    "                            readme_text = repo_content.find_element_by_css_selector(\"article.markdown-body.entry-content\").text.split(\"\\n\")[1:]\n",
    "                        else:\n",
    "                            readme_text = \"\"\n",
    "\n",
    "                        repo_df.loc[len(repo_df)] = [ID, master, repo_name, *social_list, *repo_list, repo_last_commit, *language_list, readme_text]\n",
    "                        driver.execute_script(\"window.history.go(-1)\")\n",
    "                        time.sleep(1.5)\n",
    "\n",
    "            driver.execute_script(\"window.history.go(-2)\")\n",
    "            time.sleep(1.5)\n",
    "\n",
    "\n",
    "        driver.find_element_by_css_selector(\"a.next_page\").click()\n",
    "        time.sleep(2)\n",
    "    \n",
    "except:\n",
    "    send_slack(\"project\", \"databot\", \":ghost:\", \"오류가 났으니 확인바랍니다\")\n",
    "        \n",
    "        \n",
    "current_time = str(datetime.datetime.now())\n",
    "end_time = time.time()\n",
    "send_slack(\"project\", \"databot\", \":ghost:\", \"작업이 끝났습니다 - 걸린시간은 {time}s 입니다.\".format(time=int(end_time-start_time)))"
   ]
  },
  {
   "cell_type": "code",
   "execution_count": 13,
   "metadata": {
    "collapsed": false
   },
   "outputs": [
    {
     "name": "stdout",
     "output_type": "stream",
     "text": [
      "b'ok'\n",
      "b'ok'\n"
     ]
    }
   ],
   "source": [
    "# 특정 ID의 팔로워들 긁기 ( certain user's followe crawling)\n",
    "driver = webdriver.Firefox()\n",
    "url = \"https://github.com/dobestan/followers?page=2\"\n",
    "driver.get(url)\n",
    "time.sleep(2)\n",
    "\n",
    "\n",
    "start_time = time.time()\n",
    "current_time = str(datetime.datetime.now())\n",
    "send_slack(\"project\", \"databot\", \":ghost:\", \"작업을 실행합니다 - {time}\".format(time=current_time))\n",
    "\n",
    "try:\n",
    "    user_n = driver.find_elements_by_css_selector(\"li.follow-list-item.left.border-bottom\")\n",
    "#     user_df = pd.DataFrame(columns=[\"Full_name\",\"User_name\",\"Country\",\"Mail_address\",\"Webpage\",\"Join_date\",\"Followers\",\\\n",
    "#                                         \"Starred\",\"Following\",\"Contributions\"], )\n",
    "#     repo_df = pd.DataFrame(columns=[\"ID\", \"master\",\"repo_name\", \"Watch\", \"Star\", \"Fork\", \"commit\", \"branch\", \"releases\", \"contributor\", \\\n",
    "#                                     \"repo_last_commit\",\"lan_1\", \"per_1\", \"lan_2\", \"per_2\", \"lan_3\", \"per_3\", \"lan_4\", \"per_4\", \"lan_5\",\"pre_5\", \\\n",
    "#                                     \"lan_6\",\"pre_6\", \"lan_7\",\"pre_7\",\"readme_text\"])\n",
    "\n",
    "    for a in range(len(user_n)): # 이부분이 몇번째부터 크롤링할지임\n",
    "        driver.find_elements_by_css_selector(\"div.follower-list-align-top.d-inline-block.ml-3\")[a].find_element_by_css_selector(\"a\").click()\n",
    "        time.sleep(2)\n",
    "\n",
    "#         user_dict = {\n",
    "#         \"Full_name\": driver.find_element_by_css_selector(\"div.vcard-fullname\").text,\n",
    "#         \"User_name\": driver.find_element_by_css_selector(\"div.vcard-username\").text,\n",
    "#         \"Country\": driver.find_element_by_css_selector(\"li[aria-label='Home location\").text if \"Home location\" in  driver.page_source else \"\",\n",
    "#         \"Mail_address\": driver.find_element_by_css_selector(\"li[aria-label='Email\").text if \"Email\" in  driver.page_source else \"\",\n",
    "#         \"Webpage\": driver.find_element_by_css_selector(\"li[aria-label='Blog or website\").text if \"Blog or website\" in  driver.page_source else \"\",\n",
    "#         \"Join_date\": driver.find_element_by_css_selector(\"li[aria-label='Member since']\").text,\n",
    "#         \"Followers\": driver.find_element_by_css_selector(\"div.vcard-stats\").text.split(\"\\n\")[0],\n",
    "#         \"Starred\": driver.find_element_by_css_selector(\"div.vcard-stats\").text.split(\"\\n\")[2],\n",
    "#         \"Following\": driver.find_element_by_css_selector(\"div.vcard-stats\").text.split(\"\\n\")[4],\n",
    "#         \"Contributions\": driver.find_elements_by_css_selector(\"div.boxed-group.flush\")[-1].find_element_by_css_selector(\"h3\").text.split(\" \")[0],   \n",
    "#         }\n",
    "\n",
    "\n",
    "#         user_df.loc[len(user_df)] = user_dict\n",
    "\n",
    "\n",
    "        Table = driver.find_elements_by_css_selector(\"div.column.three-fourths\")\n",
    "        Table[0].find_element_by_css_selector(\"svg.octicon.octicon-repo\").click()\n",
    "        time.sleep(2)\n",
    "\n",
    "\n",
    "\n",
    "        Contents = driver.find_elements_by_css_selector(\"div.repo-list-item.public.fork\")\n",
    "        for k in range(len(Contents)):\n",
    "            Contents = driver.find_elements_by_css_selector(\"div.repo-list-item.public.fork\")\n",
    "            ID = driver.find_element_by_css_selector(\"div.vcard-username\").text    #ID\n",
    "\n",
    "            if len(Contents[k].find_elements_by_css_selector(\"div.repo-list-stats\")[0].text.split(\" \")) == 3:\n",
    "                Contents[k].find_element_by_css_selector(\"p.repo-list-info\").find_element_by_css_selector(\"a\").click() # fork의 원본으로 클릭\n",
    "\n",
    "                master = driver.find_element_by_css_selector(\"span.author\").text\n",
    "                repo_name = driver.find_element_by_css_selector(\"h1.public\").find_elements_by_css_selector(\"a\")[-1].text    # repository\n",
    "\n",
    "                social_list = [\n",
    "                    driver.find_elements_by_css_selector(\"a.social-count\")[0].text,    #Watch\n",
    "                    driver.find_elements_by_css_selector(\"a.social-count\")[1].text,    #Star\n",
    "                    driver.find_elements_by_css_selector(\"a.social-count\")[2].text,    #Fork\n",
    "                    ]\n",
    "\n",
    "                repo_content = driver.find_element_by_css_selector(\"div.repository-content\")\n",
    "                repo_list = [\n",
    "                    repo_content.find_elements_by_css_selector(\"span.num.text-emphasized\")[0].text,    #commit\n",
    "                    repo_content.find_elements_by_css_selector(\"span.num.text-emphasized\")[1].text,    #branch\n",
    "                    repo_content.find_elements_by_css_selector(\"span.num.text-emphasized\")[2].text,    #releases\n",
    "                    repo_content.find_elements_by_css_selector(\"span.num.text-emphasized\")[3].text,    #contributor\n",
    "                    ]    \n",
    "                repo_last_commit = driver.find_element_by_css_selector(\"div.commit-tease.js-details-container\").\\\n",
    "                find_element_by_css_selector(\"relative-time\").text if \"relative-time\" in  driver.page_source else \"\"\n",
    "\n",
    "                time.sleep(2)\n",
    "                # language list part\n",
    "                try:\n",
    "                    driver.find_element_by_css_selector(\"div.repository-lang-stats-graph.js-toggle-lang-stats\").click()\n",
    "                    language_n = driver.find_element_by_css_selector(\"ol.repository-lang-stats-numbers\").find_elements_by_css_selector(\"li\")\n",
    "                    language_list = [] \n",
    "                    for i in range(len(language_n)):\n",
    "                        language_list.append(language_n[i].text.split(\" \")[0])\n",
    "                        language_list.append(float(language_n[i].text.split(\" \")[1][:-1]))\n",
    "                    if len(language_n) != 7:\n",
    "                        for i in range(7 - len(language_n)):\n",
    "                            language_list.append(\"\")\n",
    "                            language_list.append(0.0)\n",
    "                except:\n",
    "                    language_list = [\"\", 0.0] * 7\n",
    "\n",
    "                if 'markdown-body' in driver.page_source:\n",
    "                    readme_text = repo_content.find_element_by_css_selector(\"article.markdown-body.entry-content\").text.split(\"\\n\")[1:]\n",
    "                else:\n",
    "                    readme_text = \"\"\n",
    "\n",
    "#                 if k % 5 == 0:\n",
    "#                     print(k)\n",
    "\n",
    "                repo_df.loc[len(repo_df)] = [ID, master, repo_name, *social_list, *repo_list, repo_last_commit, *language_list, readme_text]\n",
    "                driver.execute_script(\"window.history.go(-1)\")\n",
    "                time.sleep(2)\n",
    "\n",
    "        driver.execute_script(\"window.history.go(-2)\")\n",
    "        time.sleep(2)\n",
    "\n",
    "except:\n",
    "    send_slack(\"project\", \"databot\", \":ghost:\", \"오류가 났으니 확인바랍니다\")\n",
    "        \n",
    "        \n",
    "current_time = str(datetime.datetime.now())\n",
    "end_time = time.time()\n",
    "send_slack(\"project\", \"databot\", \":ghost:\", \"작업이 끝났습니다 - 걸린시간은 {time}s 입니다.\".format(time=int(end_time-start_time)))"
   ]
  },
  {
   "cell_type": "code",
   "execution_count": null,
   "metadata": {
    "collapsed": true
   },
   "outputs": [],
   "source": []
  },
  {
   "cell_type": "code",
   "execution_count": null,
   "metadata": {
    "collapsed": true
   },
   "outputs": [],
   "source": []
  }
 ],
 "metadata": {
  "kernelspec": {
   "display_name": "Python 3",
   "language": "python",
   "name": "python3"
  },
  "language_info": {
   "codemirror_mode": {
    "name": "ipython",
    "version": 3
   },
   "file_extension": ".py",
   "mimetype": "text/x-python",
   "name": "python",
   "nbconvert_exporter": "python",
   "pygments_lexer": "ipython3",
   "version": "3.5.1"
  }
 },
 "nbformat": 4,
 "nbformat_minor": 0
}
