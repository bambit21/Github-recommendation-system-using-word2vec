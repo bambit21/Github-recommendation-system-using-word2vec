{
 "cells": [
  {
   "cell_type": "code",
   "execution_count": 1,
   "metadata": {
    "collapsed": true
   },
   "outputs": [],
   "source": [
    "import pandas as pd\n",
    "import numpy as np\n",
    "from sklearn.cluster import KMeans\n",
    "import matplotlib.pyplot as plt\n",
    "from scipy.cluster import vq\n",
    "import time\n",
    "import math\n",
    "from operator import itemgetter\n",
    "from scipy.spatial import distance\n",
    "from selenium import webdriver\n",
    "import datetime\n",
    "import requests\n",
    "import json\n",
    "import gensim, logging\n",
    "from mpl_toolkits.mplot3d import Axes3D\n",
    "from gensim.models import word2vec\n",
    "from random import shuffle \n",
    "\n",
    "plt.style.use(u'grayscale')\n",
    "plt.style.available\n",
    "%matplotlib inline"
   ]
  },
  {
   "cell_type": "markdown",
   "metadata": {},
   "source": [
    "#### 코드가 조금 난해하지만, 지속적으로 리팩토링할 예정입니다! "
   ]
  },
  {
   "cell_type": "markdown",
   "metadata": {},
   "source": [
    "# user-user modeling ( 거리 기반 )"
   ]
  },
  {
   "cell_type": "code",
   "execution_count": 6,
   "metadata": {
    "collapsed": true
   },
   "outputs": [],
   "source": [
    "# user의 repository 내 언어 빈도를 파악한 매트릭스 로드\n",
    "matrix = pd.read_csv(\"language_mat2.csv\", encoding=\"cp949\", index_col=0)   \n",
    "matrix1 = matrix.drop([\"user\"], axis=1) # matrix1 = user 이름을 제거한 매트릭스"
   ]
  },
  {
   "cell_type": "code",
   "execution_count": 7,
   "metadata": {
    "collapsed": false
   },
   "outputs": [
    {
     "name": "stdout",
     "output_type": "stream",
     "text": [
      "Enter Starting Cluster: 2\n",
      "Enter Ending Cluster: 16\n",
      "2 623.974348229\n",
      "3 522.53402618\n",
      "4 466.024921173\n",
      "5 429.202195984\n",
      "6 406.372945303\n",
      "7 373.412731784\n",
      "8 347.230448089\n",
      "9 321.05161072\n",
      "10 291.646785543\n",
      "11 275.074813596\n",
      "12 250.200238196\n",
      "13 237.538596926\n",
      "14 225.910108509\n",
      "15 219.36218003\n"
     ]
    }
   ],
   "source": [
    "# 알맞은 군집 개수를 알아보기 위해 탐색\n",
    "n = int(input(\"Enter Starting Cluster: \"))\n",
    "n1 = int(input(\"Enter Ending Cluster: \"))\n",
    "for i in range(n,n1):\n",
    "    km = KMeans(n_clusters=i, init='k-means++', n_init=10)\n",
    "    km.fit(matrix1)\n",
    "    print (i, km.inertia_)"
   ]
  },
  {
   "cell_type": "code",
   "execution_count": 8,
   "metadata": {
    "collapsed": false
   },
   "outputs": [
    {
     "data": {
      "text/plain": [
       "KMeans(copy_x=True, init='k-means++', max_iter=300, n_clusters=14, n_init=10,\n",
       "    n_jobs=1, precompute_distances='auto', random_state=None, tol=0.0001,\n",
       "    verbose=0)"
      ]
     },
     "execution_count": 8,
     "metadata": {},
     "output_type": "execute_result"
    }
   ],
   "source": [
    "# 13-14 정도로 군집하면 괜찮을 것 같음\n",
    "km = KMeans(n_clusters=14, init='k-means++', n_init=10)\n",
    "km.fit(matrix1)"
   ]
  },
  {
   "cell_type": "code",
   "execution_count": 9,
   "metadata": {
    "collapsed": false
   },
   "outputs": [
    {
     "data": {
      "text/html": [
       "<div>\n",
       "<table border=\"1\" class=\"dataframe\">\n",
       "  <thead>\n",
       "    <tr style=\"text-align: right;\">\n",
       "      <th></th>\n",
       "      <th>user</th>\n",
       "      <th>AspectJ</th>\n",
       "      <th>C#</th>\n",
       "      <th>Julia</th>\n",
       "      <th>TypeScript</th>\n",
       "      <th>PostScript</th>\n",
       "      <th>Smalltalk</th>\n",
       "      <th>Scala</th>\n",
       "      <th>Dart</th>\n",
       "      <th>Makefile</th>\n",
       "      <th>...</th>\n",
       "      <th>Thrift</th>\n",
       "      <th>Haskell</th>\n",
       "      <th>D</th>\n",
       "      <th>Modula-2</th>\n",
       "      <th>Ruby</th>\n",
       "      <th>AutoHotkey</th>\n",
       "      <th>ASP</th>\n",
       "      <th>Shell</th>\n",
       "      <th>Perl6</th>\n",
       "      <th>Cluster</th>\n",
       "    </tr>\n",
       "  </thead>\n",
       "  <tbody>\n",
       "    <tr>\n",
       "      <th>0</th>\n",
       "      <td>nainu</td>\n",
       "      <td>0.0</td>\n",
       "      <td>0.0</td>\n",
       "      <td>0.0</td>\n",
       "      <td>0.0</td>\n",
       "      <td>0.0</td>\n",
       "      <td>0.0</td>\n",
       "      <td>0.0</td>\n",
       "      <td>0.0</td>\n",
       "      <td>0.0</td>\n",
       "      <td>...</td>\n",
       "      <td>0.0</td>\n",
       "      <td>0.0</td>\n",
       "      <td>0.0</td>\n",
       "      <td>0.0</td>\n",
       "      <td>0.0</td>\n",
       "      <td>0.0</td>\n",
       "      <td>0.0</td>\n",
       "      <td>0.0</td>\n",
       "      <td>0.0</td>\n",
       "      <td>9</td>\n",
       "    </tr>\n",
       "    <tr>\n",
       "      <th>1</th>\n",
       "      <td>beknazar</td>\n",
       "      <td>0.0</td>\n",
       "      <td>0.0</td>\n",
       "      <td>0.0</td>\n",
       "      <td>0.0</td>\n",
       "      <td>0.0</td>\n",
       "      <td>0.0</td>\n",
       "      <td>0.0</td>\n",
       "      <td>0.0</td>\n",
       "      <td>0.0</td>\n",
       "      <td>...</td>\n",
       "      <td>0.0</td>\n",
       "      <td>0.0</td>\n",
       "      <td>0.0</td>\n",
       "      <td>0.0</td>\n",
       "      <td>0.0</td>\n",
       "      <td>0.0</td>\n",
       "      <td>0.0</td>\n",
       "      <td>0.0</td>\n",
       "      <td>0.0</td>\n",
       "      <td>4</td>\n",
       "    </tr>\n",
       "    <tr>\n",
       "      <th>2</th>\n",
       "      <td>sublime718</td>\n",
       "      <td>0.0</td>\n",
       "      <td>0.0</td>\n",
       "      <td>0.0</td>\n",
       "      <td>0.0</td>\n",
       "      <td>0.0</td>\n",
       "      <td>0.0</td>\n",
       "      <td>0.0</td>\n",
       "      <td>0.0</td>\n",
       "      <td>0.0</td>\n",
       "      <td>...</td>\n",
       "      <td>0.0</td>\n",
       "      <td>0.0</td>\n",
       "      <td>0.0</td>\n",
       "      <td>0.0</td>\n",
       "      <td>0.0</td>\n",
       "      <td>0.0</td>\n",
       "      <td>0.0</td>\n",
       "      <td>0.0</td>\n",
       "      <td>0.0</td>\n",
       "      <td>4</td>\n",
       "    </tr>\n",
       "    <tr>\n",
       "      <th>3</th>\n",
       "      <td>erishforG</td>\n",
       "      <td>0.0</td>\n",
       "      <td>0.0</td>\n",
       "      <td>0.0</td>\n",
       "      <td>0.0</td>\n",
       "      <td>0.0</td>\n",
       "      <td>0.0</td>\n",
       "      <td>0.0</td>\n",
       "      <td>0.0</td>\n",
       "      <td>0.0</td>\n",
       "      <td>...</td>\n",
       "      <td>0.0</td>\n",
       "      <td>0.0</td>\n",
       "      <td>0.0</td>\n",
       "      <td>0.0</td>\n",
       "      <td>0.0</td>\n",
       "      <td>0.0</td>\n",
       "      <td>0.0</td>\n",
       "      <td>0.0</td>\n",
       "      <td>0.0</td>\n",
       "      <td>1</td>\n",
       "    </tr>\n",
       "    <tr>\n",
       "      <th>4</th>\n",
       "      <td>araqne</td>\n",
       "      <td>0.0</td>\n",
       "      <td>0.0</td>\n",
       "      <td>0.0</td>\n",
       "      <td>0.0</td>\n",
       "      <td>0.0</td>\n",
       "      <td>0.0</td>\n",
       "      <td>0.0</td>\n",
       "      <td>0.0</td>\n",
       "      <td>0.0</td>\n",
       "      <td>...</td>\n",
       "      <td>0.0</td>\n",
       "      <td>0.0</td>\n",
       "      <td>0.0</td>\n",
       "      <td>0.0</td>\n",
       "      <td>0.0</td>\n",
       "      <td>0.0</td>\n",
       "      <td>0.0</td>\n",
       "      <td>0.0</td>\n",
       "      <td>0.0</td>\n",
       "      <td>1</td>\n",
       "    </tr>\n",
       "  </tbody>\n",
       "</table>\n",
       "<p>5 rows × 100 columns</p>\n",
       "</div>"
      ],
      "text/plain": [
       "         user  AspectJ   C#  Julia  TypeScript  PostScript  Smalltalk  Scala  \\\n",
       "0       nainu      0.0  0.0    0.0         0.0         0.0        0.0    0.0   \n",
       "1    beknazar      0.0  0.0    0.0         0.0         0.0        0.0    0.0   \n",
       "2  sublime718      0.0  0.0    0.0         0.0         0.0        0.0    0.0   \n",
       "3   erishforG      0.0  0.0    0.0         0.0         0.0        0.0    0.0   \n",
       "4      araqne      0.0  0.0    0.0         0.0         0.0        0.0    0.0   \n",
       "\n",
       "   Dart  Makefile   ...     Thrift  Haskell    D  Modula-2  Ruby  AutoHotkey  \\\n",
       "0   0.0       0.0   ...        0.0      0.0  0.0       0.0   0.0         0.0   \n",
       "1   0.0       0.0   ...        0.0      0.0  0.0       0.0   0.0         0.0   \n",
       "2   0.0       0.0   ...        0.0      0.0  0.0       0.0   0.0         0.0   \n",
       "3   0.0       0.0   ...        0.0      0.0  0.0       0.0   0.0         0.0   \n",
       "4   0.0       0.0   ...        0.0      0.0  0.0       0.0   0.0         0.0   \n",
       "\n",
       "   ASP  Shell  Perl6  Cluster  \n",
       "0  0.0    0.0    0.0        9  \n",
       "1  0.0    0.0    0.0        4  \n",
       "2  0.0    0.0    0.0        4  \n",
       "3  0.0    0.0    0.0        1  \n",
       "4  0.0    0.0    0.0        1  \n",
       "\n",
       "[5 rows x 100 columns]"
      ]
     },
     "execution_count": 9,
     "metadata": {},
     "output_type": "execute_result"
    }
   ],
   "source": [
    "x = km.fit_predict(matrix1)\n",
    "matrix[\"Cluster\"]= x # matrix에 cluster 나눈 데이터 추가\n",
    "matrix.head()"
   ]
  },
  {
   "cell_type": "code",
   "execution_count": 10,
   "metadata": {
    "collapsed": true
   },
   "outputs": [],
   "source": [
    "# 유저 거리 구하기(코사인 / 유클리디안)\n",
    "def cosine_distance(a,b):\n",
    "    return 1-distance.cosine(a,b)\n",
    "\n",
    "def euclidean_distance(a,b):\n",
    "    return 1/(distance.euclidean(a,b)+1)"
   ]
  },
  {
   "cell_type": "code",
   "execution_count": 11,
   "metadata": {
    "collapsed": false
   },
   "outputs": [],
   "source": [
    "# 가장 근접한 이웃 찾는 함수\n",
    "def nearest_neighbor_user(user, topN, simFunc) :  \n",
    "    u1 = matrix1.loc[user].dropna()\n",
    "    ratedIndex = u1.index\n",
    "    nn = {}\n",
    "    \n",
    "    for uid, row in matrix1.iterrows():\n",
    "        interSectionU1 = []\n",
    "        interSectionU2 = []\n",
    "        if uid==user:\n",
    "            continue\n",
    "            \n",
    "        for i in ratedIndex:\n",
    "            if False==math.isnan(row[i]):\n",
    "                interSectionU1.append(u1[i])\n",
    "                interSectionU2.append(row[i])\n",
    "        interSectionLen = len(interSectionU1)\n",
    "        \n",
    "       \n",
    "        if interSectionLen < 1 :\n",
    "            continue\n",
    "            \n",
    "        ## similarity functon\n",
    "        sim = simFunc(interSectionU1,interSectionU2)\n",
    "        \n",
    "        if  math.isnan(sim) == False:\n",
    "            nn[uid] = sim\n",
    "            \n",
    "    ## top N returned         \n",
    "    return sorted(nn.items(),key=itemgetter(1))[:-(topN+1):-1]"
   ]
  },
  {
   "cell_type": "code",
   "execution_count": 12,
   "metadata": {
    "collapsed": false
   },
   "outputs": [
    {
     "name": "stdout",
     "output_type": "stream",
     "text": [
      "Wall time: 17.2 s\n"
     ]
    },
    {
     "data": {
      "text/plain": [
       "[(1378, 0.95757979527947712),\n",
       " (223, 0.95382096647653181),\n",
       " (1106, 0.94483466839827979),\n",
       " (1393, 0.9431191251430151),\n",
       " (671, 0.9431191251430151),\n",
       " (783, 0.94289285800589251),\n",
       " (1489, 0.93808983116134503),\n",
       " (1250, 0.93658581158169396),\n",
       " (1491, 0.93214321723842897),\n",
       " (1493, 0.93133724336972201)]"
      ]
     },
     "execution_count": 12,
     "metadata": {},
     "output_type": "execute_result"
    }
   ],
   "source": [
    "%%time\n",
    "# 10번 user와 유사한 user, 코사인 거리를 출력\n",
    "nearest_neighbor_user(10, 10, cosine_distance)"
   ]
  },
  {
   "cell_type": "markdown",
   "metadata": {},
   "source": [
    "# item-item modeling( word2vec 활용 )"
   ]
  },
  {
   "cell_type": "code",
   "execution_count": 13,
   "metadata": {
    "collapsed": true
   },
   "outputs": [],
   "source": [
    "fork_df = pd.read_csv(\"last_fork2.csv\", encoding=\"cp949\", index_col=0)\n",
    "user_df = pd.read_csv(\"main_user4.csv\", encoding=\"cp949\", index_col=0)\n"
   ]
  },
  {
   "cell_type": "code",
   "execution_count": 14,
   "metadata": {
    "collapsed": false
   },
   "outputs": [
    {
     "data": {
      "text/html": [
       "<div>\n",
       "<table border=\"1\" class=\"dataframe\">\n",
       "  <thead>\n",
       "    <tr style=\"text-align: right;\">\n",
       "      <th></th>\n",
       "      <th>ID</th>\n",
       "      <th>master</th>\n",
       "      <th>repo_name</th>\n",
       "      <th>Watch</th>\n",
       "      <th>Star</th>\n",
       "      <th>Fork</th>\n",
       "      <th>commit</th>\n",
       "      <th>branch</th>\n",
       "      <th>releases</th>\n",
       "      <th>contributor</th>\n",
       "      <th>...</th>\n",
       "      <th>lan_4</th>\n",
       "      <th>per_4</th>\n",
       "      <th>lan_5</th>\n",
       "      <th>pre_5</th>\n",
       "      <th>lan_6</th>\n",
       "      <th>pre_6</th>\n",
       "      <th>lan_7</th>\n",
       "      <th>pre_7</th>\n",
       "      <th>user</th>\n",
       "      <th>organization</th>\n",
       "    </tr>\n",
       "  </thead>\n",
       "  <tbody>\n",
       "    <tr>\n",
       "      <th>0</th>\n",
       "      <td>dahlia</td>\n",
       "      <td>andreypopp</td>\n",
       "      <td>bw_sphinxtheme</td>\n",
       "      <td>1</td>\n",
       "      <td>6</td>\n",
       "      <td>1</td>\n",
       "      <td>24</td>\n",
       "      <td>1</td>\n",
       "      <td>4</td>\n",
       "      <td>2</td>\n",
       "      <td>...</td>\n",
       "      <td>NaN</td>\n",
       "      <td>0.0</td>\n",
       "      <td>NaN</td>\n",
       "      <td>0.0</td>\n",
       "      <td>NaN</td>\n",
       "      <td>0.0</td>\n",
       "      <td>NaN</td>\n",
       "      <td>0.0</td>\n",
       "      <td>andreypopp</td>\n",
       "      <td>NaN</td>\n",
       "    </tr>\n",
       "    <tr>\n",
       "      <th>1</th>\n",
       "      <td>dahlia</td>\n",
       "      <td>spoqa</td>\n",
       "      <td>geofront</td>\n",
       "      <td>36</td>\n",
       "      <td>198</td>\n",
       "      <td>16</td>\n",
       "      <td>213</td>\n",
       "      <td>3</td>\n",
       "      <td>8</td>\n",
       "      <td>4</td>\n",
       "      <td>...</td>\n",
       "      <td>NaN</td>\n",
       "      <td>0.0</td>\n",
       "      <td>NaN</td>\n",
       "      <td>0.0</td>\n",
       "      <td>NaN</td>\n",
       "      <td>0.0</td>\n",
       "      <td>NaN</td>\n",
       "      <td>0.0</td>\n",
       "      <td>NaN</td>\n",
       "      <td>spoqa</td>\n",
       "    </tr>\n",
       "    <tr>\n",
       "      <th>2</th>\n",
       "      <td>dahlia</td>\n",
       "      <td>spoqa</td>\n",
       "      <td>tsukkomi</td>\n",
       "      <td>14</td>\n",
       "      <td>9</td>\n",
       "      <td>3</td>\n",
       "      <td>37</td>\n",
       "      <td>1</td>\n",
       "      <td>4</td>\n",
       "      <td>3</td>\n",
       "      <td>...</td>\n",
       "      <td>NaN</td>\n",
       "      <td>0.0</td>\n",
       "      <td>NaN</td>\n",
       "      <td>0.0</td>\n",
       "      <td>NaN</td>\n",
       "      <td>0.0</td>\n",
       "      <td>NaN</td>\n",
       "      <td>0.0</td>\n",
       "      <td>NaN</td>\n",
       "      <td>spoqa</td>\n",
       "    </tr>\n",
       "    <tr>\n",
       "      <th>3</th>\n",
       "      <td>dahlia</td>\n",
       "      <td>spoqa</td>\n",
       "      <td>spoqa-han-sans</td>\n",
       "      <td>32</td>\n",
       "      <td>93</td>\n",
       "      <td>15</td>\n",
       "      <td>37</td>\n",
       "      <td>8</td>\n",
       "      <td>2</td>\n",
       "      <td>7</td>\n",
       "      <td>...</td>\n",
       "      <td>NaN</td>\n",
       "      <td>0.0</td>\n",
       "      <td>NaN</td>\n",
       "      <td>0.0</td>\n",
       "      <td>NaN</td>\n",
       "      <td>0.0</td>\n",
       "      <td>NaN</td>\n",
       "      <td>0.0</td>\n",
       "      <td>NaN</td>\n",
       "      <td>spoqa</td>\n",
       "    </tr>\n",
       "    <tr>\n",
       "      <th>4</th>\n",
       "      <td>dahlia</td>\n",
       "      <td>earthreader</td>\n",
       "      <td>libearth</td>\n",
       "      <td>6</td>\n",
       "      <td>23</td>\n",
       "      <td>13</td>\n",
       "      <td>839</td>\n",
       "      <td>15</td>\n",
       "      <td>9</td>\n",
       "      <td>6</td>\n",
       "      <td>...</td>\n",
       "      <td>NaN</td>\n",
       "      <td>0.0</td>\n",
       "      <td>NaN</td>\n",
       "      <td>0.0</td>\n",
       "      <td>NaN</td>\n",
       "      <td>0.0</td>\n",
       "      <td>NaN</td>\n",
       "      <td>0.0</td>\n",
       "      <td>NaN</td>\n",
       "      <td>earthreader</td>\n",
       "    </tr>\n",
       "  </tbody>\n",
       "</table>\n",
       "<p>5 rows × 27 columns</p>\n",
       "</div>"
      ],
      "text/plain": [
       "       ID       master       repo_name Watch Star Fork commit branch releases  \\\n",
       "0  dahlia   andreypopp  bw_sphinxtheme     1    6    1     24      1        4   \n",
       "1  dahlia        spoqa        geofront    36  198   16    213      3        8   \n",
       "2  dahlia        spoqa        tsukkomi    14    9    3     37      1        4   \n",
       "3  dahlia        spoqa  spoqa-han-sans    32   93   15     37      8        2   \n",
       "4  dahlia  earthreader        libearth     6   23   13    839     15        9   \n",
       "\n",
       "  contributor     ...      lan_4 per_4  lan_5 pre_5  lan_6 pre_6  lan_7 pre_7  \\\n",
       "0           2     ...        NaN   0.0    NaN   0.0    NaN   0.0    NaN   0.0   \n",
       "1           4     ...        NaN   0.0    NaN   0.0    NaN   0.0    NaN   0.0   \n",
       "2           3     ...        NaN   0.0    NaN   0.0    NaN   0.0    NaN   0.0   \n",
       "3           7     ...        NaN   0.0    NaN   0.0    NaN   0.0    NaN   0.0   \n",
       "4           6     ...        NaN   0.0    NaN   0.0    NaN   0.0    NaN   0.0   \n",
       "\n",
       "         user organization  \n",
       "0  andreypopp          NaN  \n",
       "1         NaN        spoqa  \n",
       "2         NaN        spoqa  \n",
       "3         NaN        spoqa  \n",
       "4         NaN  earthreader  \n",
       "\n",
       "[5 rows x 27 columns]"
      ]
     },
     "execution_count": 14,
     "metadata": {},
     "output_type": "execute_result"
    }
   ],
   "source": [
    "fork_df.head()"
   ]
  },
  {
   "cell_type": "code",
   "execution_count": 15,
   "metadata": {
    "collapsed": true
   },
   "outputs": [],
   "source": [
    "# 중복 master 제거 : 1명이 해당 사람의 자료를 많이 fork 할 경우 가중치를 주지 않음\n",
    "sentences = [list(fork_df[fork_df['ID']== i][\"master\"].unique()) for i in fork_df[\"ID\"].unique()] \n",
    "\n",
    "# 중복 master 허용한 senetences2. 많이 주는 경우 가중치를 줌\n",
    "sentences2 = [list(fork_df[fork_df['ID']== i][\"master\"]) for i in fork_df[\"ID\"].unique()] "
   ]
  },
  {
   "cell_type": "code",
   "execution_count": 16,
   "metadata": {
    "collapsed": true
   },
   "outputs": [],
   "source": [
    "fork_df = fork_df.replace(np.nan,' ', regex=True) # ' ' 제거"
   ]
  },
  {
   "cell_type": "code",
   "execution_count": 17,
   "metadata": {
    "collapsed": true
   },
   "outputs": [],
   "source": [
    "# 위 sentences, sentences2 같은 경우 일반 유저와 조직 유저 아이디가 함께 존재했기 때문에\n",
    "# 일반 유저가 잘 보이지 않음 \n",
    "# 아래 sentences는 분리한 문장들"
   ]
  },
  {
   "cell_type": "code",
   "execution_count": 18,
   "metadata": {
    "collapsed": true
   },
   "outputs": [],
   "source": [
    "user_sentences = [list(fork_df[fork_df['ID']== i][\"user\"]) for i in fork_df[\"ID\"].unique()]\n",
    "organization_sentences = [list(fork_df[fork_df['ID']== i][\"organization\"]) for i in fork_df[\"ID\"].unique()]"
   ]
  },
  {
   "cell_type": "code",
   "execution_count": 19,
   "metadata": {
    "collapsed": true
   },
   "outputs": [],
   "source": [
    "# 리스트 안의 [' ' ] 같은 단어 제거\n",
    "for k in range(1000):\n",
    "    for i in range(len(user_sentences)):\n",
    "        try:\n",
    "            user_sentences[i].remove(' ')\n",
    "        except:\n",
    "            pass\n",
    "\n",
    "    for j in range(len(organization_sentences)):\n",
    "        try:\n",
    "            organization_sentences[j].remove(' ')\n",
    "        except:\n",
    "            pass"
   ]
  },
  {
   "cell_type": "code",
   "execution_count": 23,
   "metadata": {
    "collapsed": true
   },
   "outputs": [],
   "source": [
    "def drawPlot(v, x, y):\n",
    "    v.plot(kind='scatter', x=x,y=y, figsize=(5,5))\n",
    "    plt.xlim(-0.01, 0.03)\n",
    "    plt.ylim(-0.02, 0.02)\n",
    "    for idx, pos in v.iterrows():\n",
    "        plt.text(pos[x], pos[y], idx )    \n",
    "        \n",
    "def draw3DPlot(v, x, y, z):\n",
    "    fig = plt.figure(figsize=(10,10))\n",
    "    threedee = fig.gca(projection='3d')\n",
    "    threedee.scatter(v[x], v[y],v[z] )\n",
    "    plt.xlim(-0.01, 0.03)\n",
    "    plt.ylim(-0.02, 0.02)\n",
    "    for idx, pos in v.iterrows():\n",
    "        threedee.text(pos[x], pos[y],pos[z],  idx )     "
   ]
  },
  {
   "cell_type": "code",
   "execution_count": 21,
   "metadata": {
    "collapsed": true
   },
   "outputs": [],
   "source": [
    "# 모델링 : model 1,2는 개인/조직이 합쳐진 상태며 중복 비허용/허용한 차이\n",
    "# model3,4는 개인/조직을 분리한 상태이며 중복 허용\n",
    "model1 = word2vec.Word2Vec(sentences, size=100, min_count = 3, window = 10, sg=1) \n",
    "model2 = word2vec.Word2Vec(sentences2, size=100, min_count = 3, window = 10, sg=1)\n",
    "model3 = word2vec.Word2Vec(user_sentences, size=100, min_count = 3, window = 10, sg=1)\n",
    "model4 = word2vec.Word2Vec(organization_sentences, size=100, min_count = 3, window = 10, sg=1)"
   ]
  },
  {
   "cell_type": "code",
   "execution_count": 24,
   "metadata": {
    "collapsed": false,
    "scrolled": false
   },
   "outputs": [
    {
     "data": {
      "image/png": "[encoded data removed]",
      "text/plain": [
       "<matplotlib.figure.Figure at 0x2323d649f60>"
      ]
     },
     "metadata": {},
     "output_type": "display_data"
    },
    {
     "data": {
      "image/png": "[encoded data removed]",
      "text/plain": [
       "<matplotlib.figure.Figure at 0x2323cb24cc0>"
      ]
     },
     "metadata": {},
     "output_type": "display_data"
    }
   ],
   "source": [
    "# v = pd.DataFrame(model1.syn0, index=model1.vocab)\n",
    "# v2 = pd.DataFrame(model2.syn0, index=model2.vocab)\n",
    "v3 = pd.DataFrame(model3.syn0, index=model3.vocab)\n",
    "# v4 = pd.DataFrame(model4.syn0, index=model4.vocab)\n",
    "\n",
    "# drawPlot(v, 1, 2)\n",
    "# draw3DPlot(v, 0, 1, 2)\n",
    "\n",
    "# drawPlot(v2, 1, 2)\n",
    "# draw3DPlot(v2, 0, 1, 2)\n",
    "\n",
    "drawPlot(v3, 1, 2)\n",
    "draw3DPlot(v3, 0, 1, 2)\n",
    "\n",
    "# drawPlot(v4, 1, 2)\n",
    "# draw3DPlot(v4, 0, 1, 2)\n"
   ]
  },
  {
   "cell_type": "code",
   "execution_count": 25,
   "metadata": {
    "collapsed": false
   },
   "outputs": [
    {
     "data": {
      "text/plain": [
       "[('seapy', 0.7998201847076416),\n",
       " ('junegunn', 0.7858562469482422),\n",
       " ('mojombo', 0.7674111127853394),\n",
       " ('soumith', 0.7658133506774902),\n",
       " ('guarinogabriel', 0.7646224498748779),\n",
       " ('holman', 0.7633786201477051),\n",
       " ('muan', 0.7628096342086792),\n",
       " ('yaronn', 0.7588464021682739),\n",
       " ('disjukr', 0.7558454275131226),\n",
       " ('eyecatchup', 0.7557379007339478)]"
      ]
     },
     "execution_count": 25,
     "metadata": {},
     "output_type": "execute_result"
    }
   ],
   "source": [
    "model3.most_similar(\"javajigi\")"
   ]
  },
  {
   "cell_type": "code",
   "execution_count": 41,
   "metadata": {
    "collapsed": false
   },
   "outputs": [],
   "source": [
    "merge_df = pd.read_csv(\"merge_df.csv\", encoding=\"cp949\", index_col=0)\n",
    "user_index_df = matrix[[\"user\"]]"
   ]
  },
  {
   "cell_type": "code",
   "execution_count": 54,
   "metadata": {
    "collapsed": false
   },
   "outputs": [],
   "source": [
    "def recommend_please(ID):\n",
    "    ID_number = user_index_df[user_index_df[\"user\"] == ID].index[0]\n",
    "    users = nearest_neighbor_user(ID_number, 5, cosine_distance)\n",
    "    users_ID = np.array(users, dtype=\"int\")[:,0]\n",
    "    sum_users_df = pd.DataFrame(columns=[\"ID\", \"similarity\"])\n",
    "    \n",
    "    for user_ID in users_ID:\n",
    "        user_name_df = merge_df[merge_df[\"index_num\"] == user_ID]\n",
    "        master_list = list(user_name_df[\"master\"])\n",
    "\n",
    "        user_master_df = pd.DataFrame(columns=[\"ID\", \"similarity\"])\n",
    "        for master in master_list:\n",
    "            try:\n",
    "                similar_df = pd.DataFrame(model3.most_similar(master), columns=[\"ID\", \"similarity\"])\n",
    "                user_master_df = pd.concat([user_master_df, similar_df])\n",
    "            except:\n",
    "                \n",
    "                similar_df = pd.DataFrame([[1,0]], columns=[\"ID\", \"similarity\"])\n",
    "        sum_users_df = pd.concat([sum_users_df, user_master_df])\n",
    "    print(\"{name}님이 본받을만한 리스트입니다\".format(name=user_index_df[\"user\"][ID_number]))\n",
    "    return sum_users_df.drop_duplicates().sort_values(by=\"similarity\", ascending=False).reset_index(drop=True).head(10)"
   ]
  },
  {
   "cell_type": "code",
   "execution_count": 56,
   "metadata": {
    "collapsed": false
   },
   "outputs": [
    {
     "name": "stdout",
     "output_type": "stream",
     "text": [
      "KimHeeKue님이 본받을만한 리스트입니다\n",
      "Wall time: 16.8 s\n"
     ]
    },
    {
     "data": {
      "text/html": [
       "<div>\n",
       "<table border=\"1\" class=\"dataframe\">\n",
       "  <thead>\n",
       "    <tr style=\"text-align: right;\">\n",
       "      <th></th>\n",
       "      <th>ID</th>\n",
       "      <th>similarity</th>\n",
       "    </tr>\n",
       "  </thead>\n",
       "  <tbody>\n",
       "    <tr>\n",
       "      <th>0</th>\n",
       "      <td>vinta</td>\n",
       "      <td>0.933207</td>\n",
       "    </tr>\n",
       "    <tr>\n",
       "      <th>1</th>\n",
       "      <td>rampa069</td>\n",
       "      <td>0.930100</td>\n",
       "    </tr>\n",
       "    <tr>\n",
       "      <th>2</th>\n",
       "      <td>kennethreitz</td>\n",
       "      <td>0.922796</td>\n",
       "    </tr>\n",
       "    <tr>\n",
       "      <th>3</th>\n",
       "      <td>dahlia</td>\n",
       "      <td>0.922355</td>\n",
       "    </tr>\n",
       "    <tr>\n",
       "      <th>4</th>\n",
       "      <td>blt</td>\n",
       "      <td>0.921033</td>\n",
       "    </tr>\n",
       "    <tr>\n",
       "      <th>5</th>\n",
       "      <td>lqez</td>\n",
       "      <td>0.920886</td>\n",
       "    </tr>\n",
       "    <tr>\n",
       "      <th>6</th>\n",
       "      <td>donnemartin</td>\n",
       "      <td>0.918752</td>\n",
       "    </tr>\n",
       "    <tr>\n",
       "      <th>7</th>\n",
       "      <td>changwoo</td>\n",
       "      <td>0.915503</td>\n",
       "    </tr>\n",
       "    <tr>\n",
       "      <th>8</th>\n",
       "      <td>nacyot</td>\n",
       "      <td>0.913998</td>\n",
       "    </tr>\n",
       "    <tr>\n",
       "      <th>9</th>\n",
       "      <td>fogleman</td>\n",
       "      <td>0.912975</td>\n",
       "    </tr>\n",
       "  </tbody>\n",
       "</table>\n",
       "</div>"
      ],
      "text/plain": [
       "             ID  similarity\n",
       "0         vinta    0.933207\n",
       "1      rampa069    0.930100\n",
       "2  kennethreitz    0.922796\n",
       "3        dahlia    0.922355\n",
       "4           blt    0.921033\n",
       "5          lqez    0.920886\n",
       "6   donnemartin    0.918752\n",
       "7      changwoo    0.915503\n",
       "8        nacyot    0.913998\n",
       "9      fogleman    0.912975"
      ]
     },
     "execution_count": 56,
     "metadata": {},
     "output_type": "execute_result"
    }
   ],
   "source": [
    "%%time\n",
    "recommend_please(\"KimHeeKue\") "
   ]
  },
  {
   "cell_type": "code",
   "execution_count": 57,
   "metadata": {
    "collapsed": false,
    "scrolled": true
   },
   "outputs": [
    {
     "name": "stdout",
     "output_type": "stream",
     "text": [
      "milooy님이 본받을만한 리스트입니다\n",
      "Wall time: 17.6 s\n"
     ]
    },
    {
     "data": {
      "text/html": [
       "<div>\n",
       "<table border=\"1\" class=\"dataframe\">\n",
       "  <thead>\n",
       "    <tr style=\"text-align: right;\">\n",
       "      <th></th>\n",
       "      <th>ID</th>\n",
       "      <th>similarity</th>\n",
       "    </tr>\n",
       "  </thead>\n",
       "  <tbody>\n",
       "    <tr>\n",
       "      <th>0</th>\n",
       "      <td>dahlia</td>\n",
       "      <td>0.842674</td>\n",
       "    </tr>\n",
       "    <tr>\n",
       "      <th>1</th>\n",
       "      <td>youknowone</td>\n",
       "      <td>0.841414</td>\n",
       "    </tr>\n",
       "    <tr>\n",
       "      <th>2</th>\n",
       "      <td>sametmax</td>\n",
       "      <td>0.836628</td>\n",
       "    </tr>\n",
       "    <tr>\n",
       "      <th>3</th>\n",
       "      <td>getify</td>\n",
       "      <td>0.836237</td>\n",
       "    </tr>\n",
       "    <tr>\n",
       "      <th>4</th>\n",
       "      <td>seapy</td>\n",
       "      <td>0.833201</td>\n",
       "    </tr>\n",
       "    <tr>\n",
       "      <th>5</th>\n",
       "      <td>jaredpar</td>\n",
       "      <td>0.829460</td>\n",
       "    </tr>\n",
       "    <tr>\n",
       "      <th>6</th>\n",
       "      <td>yaronn</td>\n",
       "      <td>0.828398</td>\n",
       "    </tr>\n",
       "    <tr>\n",
       "      <th>7</th>\n",
       "      <td>avelino</td>\n",
       "      <td>0.828250</td>\n",
       "    </tr>\n",
       "    <tr>\n",
       "      <th>8</th>\n",
       "      <td>junegunn</td>\n",
       "      <td>0.827278</td>\n",
       "    </tr>\n",
       "    <tr>\n",
       "      <th>9</th>\n",
       "      <td>guarinogabriel</td>\n",
       "      <td>0.822041</td>\n",
       "    </tr>\n",
       "  </tbody>\n",
       "</table>\n",
       "</div>"
      ],
      "text/plain": [
       "               ID  similarity\n",
       "0          dahlia    0.842674\n",
       "1      youknowone    0.841414\n",
       "2        sametmax    0.836628\n",
       "3          getify    0.836237\n",
       "4           seapy    0.833201\n",
       "5        jaredpar    0.829460\n",
       "6          yaronn    0.828398\n",
       "7         avelino    0.828250\n",
       "8        junegunn    0.827278\n",
       "9  guarinogabriel    0.822041"
      ]
     },
     "execution_count": 57,
     "metadata": {},
     "output_type": "execute_result"
    }
   ],
   "source": [
    "%%time\n",
    "recommend_please(\"milooy\")"
   ]
  },
  {
   "cell_type": "code",
   "execution_count": null,
   "metadata": {
    "collapsed": true
   },
   "outputs": [],
   "source": []
  },
  {
   "cell_type": "code",
   "execution_count": null,
   "metadata": {
    "collapsed": true
   },
   "outputs": [],
   "source": []
  }
 ],
 "metadata": {
  "kernelspec": {
   "display_name": "Python 3",
   "language": "python",
   "name": "python3"
  },
  "language_info": {
   "codemirror_mode": {
    "name": "ipython",
    "version": 3
   },
   "file_extension": ".py",
   "mimetype": "text/x-python",
   "name": "python",
   "nbconvert_exporter": "python",
   "pygments_lexer": "ipython3",
   "version": "3.5.1"
  }
 },
 "nbformat": 4,
 "nbformat_minor": 0
}
