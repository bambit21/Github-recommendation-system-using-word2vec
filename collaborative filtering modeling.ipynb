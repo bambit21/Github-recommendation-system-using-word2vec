{
 "cells": [
  {
   "cell_type": "code",
   "execution_count": 1,
   "metadata": {
    "collapsed": true
   },
   "outputs": [],
   "source": [
    "import pandas as pd\n",
    "import numpy as np\n",
    "from sklearn.cluster import KMeans\n",
    "import matplotlib.pyplot as plt\n",
    "from scipy.cluster import vq\n",
    "import time\n",
    "import math\n",
    "from operator import itemgetter\n",
    "from scipy.spatial import distance\n",
    "import datetime\n",
    "import requests\n",
    "import json\n",
    "import gensim, logging\n",
    "from mpl_toolkits.mplot3d import Axes3D\n",
    "from gensim.models import word2vec\n",
    "from random import shuffle \n",
    "\n",
    "plt.style.use(u'grayscale')\n",
    "plt.style.available\n",
    "%matplotlib inline"
   ]
  },
  {
   "cell_type": "markdown",
   "metadata": {},
   "source": [
    "#### 코드가 조금 난해하지만, 지속적으로 리팩토링할 예정입니다! "
   ]
  },
  {
   "cell_type": "markdown",
   "metadata": {},
   "source": [
    "# user-user modeling ( 거리 기반 )"
   ]
  },
  {
   "cell_type": "code",
   "execution_count": 29,
   "metadata": {
    "collapsed": true
   },
   "outputs": [],
   "source": [
    "# user의 repository 내 언어 빈도를 파악한 매트릭스 로드\n",
    "matrix = pd.read_csv(\"language_mat2.csv\", encoding=\"cp949\", index_col=0)   \n",
    "matrix1 = matrix.drop([\"user\"], axis=1) # matrix1 = user 이름을 제거한 매트릭스"
   ]
  },
  {
   "cell_type": "code",
   "execution_count": 30,
   "metadata": {
    "collapsed": false
   },
   "outputs": [
    {
     "name": "stdout",
     "output_type": "stream",
     "text": [
      "Enter Starting Cluster: 2\n",
      "Enter Ending Cluster: 17\n",
      "2 624.82009554\n",
      "3 523.297959097\n",
      "4 466.209967973\n",
      "5 433.685025032\n",
      "6 399.518934569\n",
      "7 375.2471596\n",
      "8 349.044213506\n",
      "9 317.722344862\n",
      "10 291.843047287\n",
      "11 269.170702359\n",
      "12 255.359503647\n",
      "13 237.113040341\n",
      "14 226.074114851\n",
      "15 218.720894529\n",
      "16 213.423057043\n"
     ]
    }
   ],
   "source": [
    "# 알맞은 군집 개수를 알아보기 위해 탐색\n",
    "n = int(input(\"Enter Starting Cluster: \"))\n",
    "n1 = int(input(\"Enter Ending Cluster: \"))\n",
    "for i in range(n,n1):\n",
    "    km = KMeans(n_clusters=i, init='k-means++', n_init=10)\n",
    "    km.fit(matrix1)\n",
    "    print (i, km.inertia_)"
   ]
  },
  {
   "cell_type": "code",
   "execution_count": 31,
   "metadata": {
    "collapsed": false
   },
   "outputs": [
    {
     "data": {
      "text/plain": [
       "KMeans(copy_x=True, init='k-means++', max_iter=300, n_clusters=14, n_init=10,\n",
       "    n_jobs=1, precompute_distances='auto', random_state=None, tol=0.0001,\n",
       "    verbose=0)"
      ]
     },
     "execution_count": 31,
     "metadata": {},
     "output_type": "execute_result"
    }
   ],
   "source": [
    "# 13-14 정도로 군집하면 괜찮을 것 같음\n",
    "km = KMeans(n_clusters=14, init='k-means++', n_init=10)\n",
    "km.fit(matrix1)"
   ]
  },
  {
   "cell_type": "code",
   "execution_count": 32,
   "metadata": {
    "collapsed": false,
    "scrolled": false
   },
   "outputs": [
    {
     "data": {
      "text/html": [
       "<div>\n",
       "<table border=\"1\" class=\"dataframe\">\n",
       "  <thead>\n",
       "    <tr style=\"text-align: right;\">\n",
       "      <th></th>\n",
       "      <th>user</th>\n",
       "      <th>AspectJ</th>\n",
       "      <th>C#</th>\n",
       "      <th>Julia</th>\n",
       "      <th>TypeScript</th>\n",
       "      <th>PostScript</th>\n",
       "      <th>Smalltalk</th>\n",
       "      <th>Scala</th>\n",
       "      <th>Dart</th>\n",
       "      <th>Makefile</th>\n",
       "      <th>...</th>\n",
       "      <th>Thrift</th>\n",
       "      <th>Haskell</th>\n",
       "      <th>D</th>\n",
       "      <th>Modula-2</th>\n",
       "      <th>Ruby</th>\n",
       "      <th>AutoHotkey</th>\n",
       "      <th>ASP</th>\n",
       "      <th>Shell</th>\n",
       "      <th>Perl6</th>\n",
       "      <th>Cluster</th>\n",
       "    </tr>\n",
       "  </thead>\n",
       "  <tbody>\n",
       "    <tr>\n",
       "      <th>0</th>\n",
       "      <td>nainu</td>\n",
       "      <td>0.0</td>\n",
       "      <td>0.0</td>\n",
       "      <td>0.0</td>\n",
       "      <td>0.0</td>\n",
       "      <td>0.0</td>\n",
       "      <td>0.0</td>\n",
       "      <td>0.0</td>\n",
       "      <td>0.0</td>\n",
       "      <td>0.0</td>\n",
       "      <td>...</td>\n",
       "      <td>0.0</td>\n",
       "      <td>0.0</td>\n",
       "      <td>0.0</td>\n",
       "      <td>0.0</td>\n",
       "      <td>0.0</td>\n",
       "      <td>0.0</td>\n",
       "      <td>0.0</td>\n",
       "      <td>0.0</td>\n",
       "      <td>0.0</td>\n",
       "      <td>1</td>\n",
       "    </tr>\n",
       "    <tr>\n",
       "      <th>1</th>\n",
       "      <td>beknazar</td>\n",
       "      <td>0.0</td>\n",
       "      <td>0.0</td>\n",
       "      <td>0.0</td>\n",
       "      <td>0.0</td>\n",
       "      <td>0.0</td>\n",
       "      <td>0.0</td>\n",
       "      <td>0.0</td>\n",
       "      <td>0.0</td>\n",
       "      <td>0.0</td>\n",
       "      <td>...</td>\n",
       "      <td>0.0</td>\n",
       "      <td>0.0</td>\n",
       "      <td>0.0</td>\n",
       "      <td>0.0</td>\n",
       "      <td>0.0</td>\n",
       "      <td>0.0</td>\n",
       "      <td>0.0</td>\n",
       "      <td>0.0</td>\n",
       "      <td>0.0</td>\n",
       "      <td>5</td>\n",
       "    </tr>\n",
       "    <tr>\n",
       "      <th>2</th>\n",
       "      <td>sublime718</td>\n",
       "      <td>0.0</td>\n",
       "      <td>0.0</td>\n",
       "      <td>0.0</td>\n",
       "      <td>0.0</td>\n",
       "      <td>0.0</td>\n",
       "      <td>0.0</td>\n",
       "      <td>0.0</td>\n",
       "      <td>0.0</td>\n",
       "      <td>0.0</td>\n",
       "      <td>...</td>\n",
       "      <td>0.0</td>\n",
       "      <td>0.0</td>\n",
       "      <td>0.0</td>\n",
       "      <td>0.0</td>\n",
       "      <td>0.0</td>\n",
       "      <td>0.0</td>\n",
       "      <td>0.0</td>\n",
       "      <td>0.0</td>\n",
       "      <td>0.0</td>\n",
       "      <td>5</td>\n",
       "    </tr>\n",
       "    <tr>\n",
       "      <th>3</th>\n",
       "      <td>erishforG</td>\n",
       "      <td>0.0</td>\n",
       "      <td>0.0</td>\n",
       "      <td>0.0</td>\n",
       "      <td>0.0</td>\n",
       "      <td>0.0</td>\n",
       "      <td>0.0</td>\n",
       "      <td>0.0</td>\n",
       "      <td>0.0</td>\n",
       "      <td>0.0</td>\n",
       "      <td>...</td>\n",
       "      <td>0.0</td>\n",
       "      <td>0.0</td>\n",
       "      <td>0.0</td>\n",
       "      <td>0.0</td>\n",
       "      <td>0.0</td>\n",
       "      <td>0.0</td>\n",
       "      <td>0.0</td>\n",
       "      <td>0.0</td>\n",
       "      <td>0.0</td>\n",
       "      <td>2</td>\n",
       "    </tr>\n",
       "    <tr>\n",
       "      <th>4</th>\n",
       "      <td>araqne</td>\n",
       "      <td>0.0</td>\n",
       "      <td>0.0</td>\n",
       "      <td>0.0</td>\n",
       "      <td>0.0</td>\n",
       "      <td>0.0</td>\n",
       "      <td>0.0</td>\n",
       "      <td>0.0</td>\n",
       "      <td>0.0</td>\n",
       "      <td>0.0</td>\n",
       "      <td>...</td>\n",
       "      <td>0.0</td>\n",
       "      <td>0.0</td>\n",
       "      <td>0.0</td>\n",
       "      <td>0.0</td>\n",
       "      <td>0.0</td>\n",
       "      <td>0.0</td>\n",
       "      <td>0.0</td>\n",
       "      <td>0.0</td>\n",
       "      <td>0.0</td>\n",
       "      <td>2</td>\n",
       "    </tr>\n",
       "  </tbody>\n",
       "</table>\n",
       "<p>5 rows × 100 columns</p>\n",
       "</div>"
      ],
      "text/plain": [
       "         user  AspectJ   C#  Julia  TypeScript  PostScript  Smalltalk  Scala  \\\n",
       "0       nainu      0.0  0.0    0.0         0.0         0.0        0.0    0.0   \n",
       "1    beknazar      0.0  0.0    0.0         0.0         0.0        0.0    0.0   \n",
       "2  sublime718      0.0  0.0    0.0         0.0         0.0        0.0    0.0   \n",
       "3   erishforG      0.0  0.0    0.0         0.0         0.0        0.0    0.0   \n",
       "4      araqne      0.0  0.0    0.0         0.0         0.0        0.0    0.0   \n",
       "\n",
       "   Dart  Makefile   ...     Thrift  Haskell    D  Modula-2  Ruby  AutoHotkey  \\\n",
       "0   0.0       0.0   ...        0.0      0.0  0.0       0.0   0.0         0.0   \n",
       "1   0.0       0.0   ...        0.0      0.0  0.0       0.0   0.0         0.0   \n",
       "2   0.0       0.0   ...        0.0      0.0  0.0       0.0   0.0         0.0   \n",
       "3   0.0       0.0   ...        0.0      0.0  0.0       0.0   0.0         0.0   \n",
       "4   0.0       0.0   ...        0.0      0.0  0.0       0.0   0.0         0.0   \n",
       "\n",
       "   ASP  Shell  Perl6  Cluster  \n",
       "0  0.0    0.0    0.0        1  \n",
       "1  0.0    0.0    0.0        5  \n",
       "2  0.0    0.0    0.0        5  \n",
       "3  0.0    0.0    0.0        2  \n",
       "4  0.0    0.0    0.0        2  \n",
       "\n",
       "[5 rows x 100 columns]"
      ]
     },
     "execution_count": 32,
     "metadata": {},
     "output_type": "execute_result"
    }
   ],
   "source": [
    "x = km.fit_predict(matrix1)\n",
    "matrix[\"Cluster\"]= x # matrix에 cluster 나눈 데이터 추가\n",
    "matrix.head()"
   ]
  },
  {
   "cell_type": "code",
   "execution_count": 35,
   "metadata": {
    "collapsed": true
   },
   "outputs": [],
   "source": [
    "# 유저 거리 구하기(코사인 / 유클리디안)\n",
    "def cosine_distance(a,b):\n",
    "    return 1-distance.cosine(a,b)\n",
    "\n",
    "def euclidean_distance(a,b):\n",
    "    return 1/(distance.euclidean(a,b)+1)"
   ]
  },
  {
   "cell_type": "code",
   "execution_count": 36,
   "metadata": {
    "collapsed": false
   },
   "outputs": [],
   "source": [
    "# 가장 근접한 이웃 찾는 함수\n",
    "def nearest_neighbor_user(user, topN, simFunc) :  \n",
    "    u1 = matrix1.loc[user].dropna()\n",
    "    ratedIndex = u1.index\n",
    "    nn = {}\n",
    "    \n",
    "    for uid, row in matrix1.iterrows():\n",
    "        interSectionU1 = []\n",
    "        interSectionU2 = []\n",
    "        if uid==user:\n",
    "            continue\n",
    "            \n",
    "        for i in ratedIndex:\n",
    "            if False==math.isnan(row[i]):\n",
    "                interSectionU1.append(u1[i])\n",
    "                interSectionU2.append(row[i])\n",
    "        interSectionLen = len(interSectionU1)\n",
    "        \n",
    "       \n",
    "        if interSectionLen < 1 :\n",
    "            continue\n",
    "            \n",
    "        ## similarity functon\n",
    "        sim = simFunc(interSectionU1,interSectionU2)\n",
    "        \n",
    "        if  math.isnan(sim) == False:\n",
    "            nn[uid] = sim\n",
    "            \n",
    "    ## top N returned         \n",
    "    return sorted(nn.items(),key=itemgetter(1))[:-(topN+1):-1]"
   ]
  },
  {
   "cell_type": "code",
   "execution_count": 37,
   "metadata": {
    "collapsed": false
   },
   "outputs": [
    {
     "name": "stdout",
     "output_type": "stream",
     "text": [
      "Wall time: 16.8 s\n"
     ]
    },
    {
     "data": {
      "text/plain": [
       "[(1583, 1.0),\n",
       " (1543, 1.0),\n",
       " (1479, 1.0),\n",
       " (1387, 1.0),\n",
       " (1366, 1.0),\n",
       " (1259, 1.0),\n",
       " (1150, 1.0),\n",
       " (1094, 1.0),\n",
       " (1058, 1.0),\n",
       " (995, 1.0)]"
      ]
     },
     "execution_count": 37,
     "metadata": {},
     "output_type": "execute_result"
    }
   ],
   "source": [
    "%%time\n",
    "# 10번 user와 유사한 user, 코사인 거리를 출력\n",
    "nearest_neighbor_user(1758, 10, cosine_distance)"
   ]
  },
  {
   "cell_type": "markdown",
   "metadata": {},
   "source": [
    "# item-item modeling( word2vec 활용 )"
   ]
  },
  {
   "cell_type": "code",
   "execution_count": 38,
   "metadata": {
    "collapsed": true
   },
   "outputs": [],
   "source": [
    "fork_df = pd.read_csv(\"last_fork2.csv\", encoding=\"cp949\", index_col=0)\n",
    "user_df = pd.read_csv(\"main_user4.csv\", encoding=\"cp949\", index_col=0)\n"
   ]
  },
  {
   "cell_type": "code",
   "execution_count": 39,
   "metadata": {
    "collapsed": false
   },
   "outputs": [
    {
     "data": {
      "text/html": [
       "<div>\n",
       "<table border=\"1\" class=\"dataframe\">\n",
       "  <thead>\n",
       "    <tr style=\"text-align: right;\">\n",
       "      <th></th>\n",
       "      <th>ID</th>\n",
       "      <th>master</th>\n",
       "      <th>repo_name</th>\n",
       "      <th>Watch</th>\n",
       "      <th>Star</th>\n",
       "      <th>Fork</th>\n",
       "      <th>commit</th>\n",
       "      <th>branch</th>\n",
       "      <th>releases</th>\n",
       "      <th>contributor</th>\n",
       "      <th>...</th>\n",
       "      <th>lan_4</th>\n",
       "      <th>per_4</th>\n",
       "      <th>lan_5</th>\n",
       "      <th>pre_5</th>\n",
       "      <th>lan_6</th>\n",
       "      <th>pre_6</th>\n",
       "      <th>lan_7</th>\n",
       "      <th>pre_7</th>\n",
       "      <th>user</th>\n",
       "      <th>organization</th>\n",
       "    </tr>\n",
       "  </thead>\n",
       "  <tbody>\n",
       "    <tr>\n",
       "      <th>0</th>\n",
       "      <td>dahlia</td>\n",
       "      <td>andreypopp</td>\n",
       "      <td>bw_sphinxtheme</td>\n",
       "      <td>1</td>\n",
       "      <td>6</td>\n",
       "      <td>1</td>\n",
       "      <td>24</td>\n",
       "      <td>1</td>\n",
       "      <td>4</td>\n",
       "      <td>2</td>\n",
       "      <td>...</td>\n",
       "      <td>NaN</td>\n",
       "      <td>0.0</td>\n",
       "      <td>NaN</td>\n",
       "      <td>0.0</td>\n",
       "      <td>NaN</td>\n",
       "      <td>0.0</td>\n",
       "      <td>NaN</td>\n",
       "      <td>0.0</td>\n",
       "      <td>andreypopp</td>\n",
       "      <td>NaN</td>\n",
       "    </tr>\n",
       "    <tr>\n",
       "      <th>1</th>\n",
       "      <td>dahlia</td>\n",
       "      <td>spoqa</td>\n",
       "      <td>geofront</td>\n",
       "      <td>36</td>\n",
       "      <td>198</td>\n",
       "      <td>16</td>\n",
       "      <td>213</td>\n",
       "      <td>3</td>\n",
       "      <td>8</td>\n",
       "      <td>4</td>\n",
       "      <td>...</td>\n",
       "      <td>NaN</td>\n",
       "      <td>0.0</td>\n",
       "      <td>NaN</td>\n",
       "      <td>0.0</td>\n",
       "      <td>NaN</td>\n",
       "      <td>0.0</td>\n",
       "      <td>NaN</td>\n",
       "      <td>0.0</td>\n",
       "      <td>NaN</td>\n",
       "      <td>spoqa</td>\n",
       "    </tr>\n",
       "    <tr>\n",
       "      <th>2</th>\n",
       "      <td>dahlia</td>\n",
       "      <td>spoqa</td>\n",
       "      <td>tsukkomi</td>\n",
       "      <td>14</td>\n",
       "      <td>9</td>\n",
       "      <td>3</td>\n",
       "      <td>37</td>\n",
       "      <td>1</td>\n",
       "      <td>4</td>\n",
       "      <td>3</td>\n",
       "      <td>...</td>\n",
       "      <td>NaN</td>\n",
       "      <td>0.0</td>\n",
       "      <td>NaN</td>\n",
       "      <td>0.0</td>\n",
       "      <td>NaN</td>\n",
       "      <td>0.0</td>\n",
       "      <td>NaN</td>\n",
       "      <td>0.0</td>\n",
       "      <td>NaN</td>\n",
       "      <td>spoqa</td>\n",
       "    </tr>\n",
       "    <tr>\n",
       "      <th>3</th>\n",
       "      <td>dahlia</td>\n",
       "      <td>spoqa</td>\n",
       "      <td>spoqa-han-sans</td>\n",
       "      <td>32</td>\n",
       "      <td>93</td>\n",
       "      <td>15</td>\n",
       "      <td>37</td>\n",
       "      <td>8</td>\n",
       "      <td>2</td>\n",
       "      <td>7</td>\n",
       "      <td>...</td>\n",
       "      <td>NaN</td>\n",
       "      <td>0.0</td>\n",
       "      <td>NaN</td>\n",
       "      <td>0.0</td>\n",
       "      <td>NaN</td>\n",
       "      <td>0.0</td>\n",
       "      <td>NaN</td>\n",
       "      <td>0.0</td>\n",
       "      <td>NaN</td>\n",
       "      <td>spoqa</td>\n",
       "    </tr>\n",
       "    <tr>\n",
       "      <th>4</th>\n",
       "      <td>dahlia</td>\n",
       "      <td>earthreader</td>\n",
       "      <td>libearth</td>\n",
       "      <td>6</td>\n",
       "      <td>23</td>\n",
       "      <td>13</td>\n",
       "      <td>839</td>\n",
       "      <td>15</td>\n",
       "      <td>9</td>\n",
       "      <td>6</td>\n",
       "      <td>...</td>\n",
       "      <td>NaN</td>\n",
       "      <td>0.0</td>\n",
       "      <td>NaN</td>\n",
       "      <td>0.0</td>\n",
       "      <td>NaN</td>\n",
       "      <td>0.0</td>\n",
       "      <td>NaN</td>\n",
       "      <td>0.0</td>\n",
       "      <td>NaN</td>\n",
       "      <td>earthreader</td>\n",
       "    </tr>\n",
       "  </tbody>\n",
       "</table>\n",
       "<p>5 rows × 27 columns</p>\n",
       "</div>"
      ],
      "text/plain": [
       "       ID       master       repo_name Watch Star Fork commit branch releases  \\\n",
       "0  dahlia   andreypopp  bw_sphinxtheme     1    6    1     24      1        4   \n",
       "1  dahlia        spoqa        geofront    36  198   16    213      3        8   \n",
       "2  dahlia        spoqa        tsukkomi    14    9    3     37      1        4   \n",
       "3  dahlia        spoqa  spoqa-han-sans    32   93   15     37      8        2   \n",
       "4  dahlia  earthreader        libearth     6   23   13    839     15        9   \n",
       "\n",
       "  contributor     ...      lan_4 per_4  lan_5 pre_5  lan_6 pre_6  lan_7 pre_7  \\\n",
       "0           2     ...        NaN   0.0    NaN   0.0    NaN   0.0    NaN   0.0   \n",
       "1           4     ...        NaN   0.0    NaN   0.0    NaN   0.0    NaN   0.0   \n",
       "2           3     ...        NaN   0.0    NaN   0.0    NaN   0.0    NaN   0.0   \n",
       "3           7     ...        NaN   0.0    NaN   0.0    NaN   0.0    NaN   0.0   \n",
       "4           6     ...        NaN   0.0    NaN   0.0    NaN   0.0    NaN   0.0   \n",
       "\n",
       "         user organization  \n",
       "0  andreypopp          NaN  \n",
       "1         NaN        spoqa  \n",
       "2         NaN        spoqa  \n",
       "3         NaN        spoqa  \n",
       "4         NaN  earthreader  \n",
       "\n",
       "[5 rows x 27 columns]"
      ]
     },
     "execution_count": 39,
     "metadata": {},
     "output_type": "execute_result"
    }
   ],
   "source": [
    "fork_df.head()"
   ]
  },
  {
   "cell_type": "code",
   "execution_count": 40,
   "metadata": {
    "collapsed": true
   },
   "outputs": [],
   "source": [
    "# 중복 master 제거 : 1명이 해당 사람의 자료를 많이 fork 할 경우 가중치를 주지 않음\n",
    "sentences = [list(fork_df[fork_df['ID']== i][\"master\"].unique()) for i in fork_df[\"ID\"].unique()] \n",
    "\n",
    "# 중복 master 허용한 senetences2. 많이 주는 경우 가중치를 줌\n",
    "sentences2 = [list(fork_df[fork_df['ID']== i][\"master\"]) for i in fork_df[\"ID\"].unique()] "
   ]
  },
  {
   "cell_type": "code",
   "execution_count": 41,
   "metadata": {
    "collapsed": true
   },
   "outputs": [],
   "source": [
    "fork_df = fork_df.replace(np.nan,' ', regex=True) # ' ' 제거"
   ]
  },
  {
   "cell_type": "code",
   "execution_count": 42,
   "metadata": {
    "collapsed": true
   },
   "outputs": [],
   "source": [
    "# 위 sentences, sentences2 같은 경우 일반 유저와 조직 유저 아이디가 함께 존재했기 때문에\n",
    "# 일반 유저가 잘 보이지 않음 \n",
    "# 아래 sentences는 분리한 문장들"
   ]
  },
  {
   "cell_type": "code",
   "execution_count": 43,
   "metadata": {
    "collapsed": true
   },
   "outputs": [],
   "source": [
    "user_sentences = [list(fork_df[fork_df['ID']== i][\"user\"]) for i in fork_df[\"ID\"].unique()]\n",
    "organization_sentences = [list(fork_df[fork_df['ID']== i][\"organization\"]) for i in fork_df[\"ID\"].unique()]"
   ]
  },
  {
   "cell_type": "code",
   "execution_count": 45,
   "metadata": {
    "collapsed": true
   },
   "outputs": [],
   "source": [
    "# 리스트 안의 [' ' ] 같은 단어 제거\n",
    "for k in range(1000):\n",
    "    for i in range(len(user_sentences)):\n",
    "        try:\n",
    "            user_sentences[i].remove(' ')\n",
    "        except:\n",
    "            pass\n",
    "\n",
    "    for j in range(len(organization_sentences)):\n",
    "        try:\n",
    "            organization_sentences[j].remove(' ')\n",
    "        except:\n",
    "            pass"
   ]
  },
  {
   "cell_type": "code",
   "execution_count": 46,
   "metadata": {
    "collapsed": true
   },
   "outputs": [],
   "source": [
    "def drawPlot(v, x, y):\n",
    "    v.plot(kind='scatter', x=x,y=y, figsize=(5,5))\n",
    "    plt.xlim(-0.01, 0.03)\n",
    "    plt.ylim(-0.02, 0.02)\n",
    "    for idx, pos in v.iterrows():\n",
    "        plt.text(pos[x], pos[y], idx )    \n",
    "        \n",
    "def draw3DPlot(v, x, y, z):\n",
    "    fig = plt.figure(figsize=(10,10))\n",
    "    threedee = fig.gca(projection='3d')\n",
    "    threedee.scatter(v[x], v[y],v[z] )\n",
    "    plt.xlim(-0.01, 0.03)\n",
    "    plt.ylim(-0.02, 0.02)\n",
    "    for idx, pos in v.iterrows():\n",
    "        threedee.text(pos[x], pos[y],pos[z],  idx )     "
   ]
  },
  {
   "cell_type": "code",
   "execution_count": 47,
   "metadata": {
    "collapsed": true
   },
   "outputs": [],
   "source": [
    "# 모델링 : model 1,2는 개인/조직이 합쳐진 상태며 중복 비허용/허용한 차이\n",
    "# model3,4는 개인/조직을 분리한 상태이며 중복 허용\n",
    "model1 = word2vec.Word2Vec(sentences, size=100, min_count = 3, window = 10, sg=1) \n",
    "model2 = word2vec.Word2Vec(sentences2, size=100, min_count = 3, window = 10, sg=1)\n",
    "model3 = word2vec.Word2Vec(user_sentences, size=100, min_count = 3, window = 10, sg=1)\n",
    "model4 = word2vec.Word2Vec(organization_sentences, size=100, min_count = 3, window = 10, sg=1)"
   ]
  },
  {
   "cell_type": "code",
   "execution_count": 48,
   "metadata": {
    "collapsed": false,
    "scrolled": false
   },
   "outputs": [
    {
     "data": {
      "image/png": "[encoded data removed]",
      "text/plain": [
       "<matplotlib.figure.Figure at 0x20b4ac6d898>"
      ]
     },
     "metadata": {},
     "output_type": "display_data"
    },
    {
     "data": {
      "image/png": "[encoded data removed]",
      "text/plain": [
       "<matplotlib.figure.Figure at 0x20b4b4f00f0>"
      ]
     },
     "metadata": {},
     "output_type": "display_data"
    }
   ],
   "source": [
    "# v = pd.DataFrame(model1.syn0, index=model1.vocab)\n",
    "# v2 = pd.DataFrame(model2.syn0, index=model2.vocab)\n",
    "v3 = pd.DataFrame(model3.syn0, index=model3.vocab)\n",
    "# v4 = pd.DataFrame(model4.syn0, index=model4.vocab)\n",
    "\n",
    "# drawPlot(v, 1, 2)\n",
    "# draw3DPlot(v, 0, 1, 2)\n",
    "\n",
    "# drawPlot(v2, 1, 2)\n",
    "# draw3DPlot(v2, 0, 1, 2)\n",
    "\n",
    "drawPlot(v3, 1, 2)\n",
    "draw3DPlot(v3, 0, 1, 2)\n",
    "\n",
    "# drawPlot(v4, 1, 2)\n",
    "# draw3DPlot(v4, 0, 1, 2)\n"
   ]
  },
  {
   "cell_type": "code",
   "execution_count": 49,
   "metadata": {
    "collapsed": false
   },
   "outputs": [
    {
     "data": {
      "text/plain": [
       "[('holman', 0.8393133878707886),\n",
       " ('eyecatchup', 0.834324836730957),\n",
       " ('kennethreitz', 0.8317749500274658),\n",
       " ('ehrudxo', 0.8303927183151245),\n",
       " ('sublee', 0.8291528224945068),\n",
       " ('jaredpar', 0.8270754814147949),\n",
       " ('crsmithdev', 0.8268970251083374),\n",
       " ('lqez', 0.8260529041290283),\n",
       " ('fogleman', 0.8209241032600403),\n",
       " ('tomchristie', 0.8187584280967712)]"
      ]
     },
     "execution_count": 49,
     "metadata": {},
     "output_type": "execute_result"
    }
   ],
   "source": [
    "model3.most_similar(\"javajigi\")"
   ]
  },
  {
   "cell_type": "code",
   "execution_count": 50,
   "metadata": {
    "collapsed": false
   },
   "outputs": [],
   "source": [
    "merge_df = pd.read_csv(\"merge_df.csv\", encoding=\"cp949\", index_col=0)\n",
    "user_index_df = matrix[[\"user\"]]"
   ]
  },
  {
   "cell_type": "code",
   "execution_count": 51,
   "metadata": {
    "collapsed": false
   },
   "outputs": [],
   "source": [
    "def recommend_please(ID):\n",
    "    ID_number = user_index_df[user_index_df[\"user\"] == ID].index[0]\n",
    "    users = nearest_neighbor_user(ID_number, 5, cosine_distance)\n",
    "    users_ID = np.array(users, dtype=\"int\")[:,0]\n",
    "    sum_users_df = pd.DataFrame(columns=[\"ID\", \"similarity\"])\n",
    "    \n",
    "    for user_ID in users_ID:\n",
    "        user_name_df = merge_df[merge_df[\"index_num\"] == user_ID]\n",
    "        master_list = list(user_name_df[\"master\"])\n",
    "\n",
    "        user_master_df = pd.DataFrame(columns=[\"ID\", \"similarity\"])\n",
    "        for master in master_list:\n",
    "            try:\n",
    "                similar_df = pd.DataFrame(model3.most_similar(master), columns=[\"ID\", \"similarity\"])\n",
    "                user_master_df = pd.concat([user_master_df, similar_df])\n",
    "            except:\n",
    "                \n",
    "                similar_df = pd.DataFrame([[1,0]], columns=[\"ID\", \"similarity\"])\n",
    "        sum_users_df = pd.concat([sum_users_df, user_master_df])\n",
    "    print(\"{name}님이 본받을만한 리스트입니다\".format(name=user_index_df[\"user\"][ID_number]))\n",
    "    return sum_users_df.drop_duplicates().sort_values(by=\"similarity\", ascending=False).reset_index(drop=True).head(10)"
   ]
  },
  {
   "cell_type": "code",
   "execution_count": 24,
   "metadata": {
    "collapsed": false
   },
   "outputs": [
    {
     "name": "stdout",
     "output_type": "stream",
     "text": [
      "LeoHeo님이 본받을만한 리스트입니다\n"
     ]
    },
    {
     "data": {
      "text/html": [
       "<div>\n",
       "<table border=\"1\" class=\"dataframe\">\n",
       "  <thead>\n",
       "    <tr style=\"text-align: right;\">\n",
       "      <th></th>\n",
       "      <th>ID</th>\n",
       "      <th>similarity</th>\n",
       "    </tr>\n",
       "  </thead>\n",
       "  <tbody>\n",
       "    <tr>\n",
       "      <th>0</th>\n",
       "      <td>achimnol</td>\n",
       "      <td>0.468912</td>\n",
       "    </tr>\n",
       "    <tr>\n",
       "      <th>1</th>\n",
       "      <td>svenfuchs</td>\n",
       "      <td>0.449155</td>\n",
       "    </tr>\n",
       "    <tr>\n",
       "      <th>2</th>\n",
       "      <td>milooy</td>\n",
       "      <td>0.445033</td>\n",
       "    </tr>\n",
       "    <tr>\n",
       "      <th>3</th>\n",
       "      <td>sindresorhus</td>\n",
       "      <td>0.443336</td>\n",
       "    </tr>\n",
       "    <tr>\n",
       "      <th>4</th>\n",
       "      <td>matej</td>\n",
       "      <td>0.439431</td>\n",
       "    </tr>\n",
       "    <tr>\n",
       "      <th>5</th>\n",
       "      <td>xnuk</td>\n",
       "      <td>0.432607</td>\n",
       "    </tr>\n",
       "    <tr>\n",
       "      <th>6</th>\n",
       "      <td>wangsy</td>\n",
       "      <td>0.432470</td>\n",
       "    </tr>\n",
       "    <tr>\n",
       "      <th>7</th>\n",
       "      <td>yomybaby</td>\n",
       "      <td>0.431865</td>\n",
       "    </tr>\n",
       "    <tr>\n",
       "      <th>8</th>\n",
       "      <td>donnemartin</td>\n",
       "      <td>0.430913</td>\n",
       "    </tr>\n",
       "    <tr>\n",
       "      <th>9</th>\n",
       "      <td>atomaths</td>\n",
       "      <td>0.427690</td>\n",
       "    </tr>\n",
       "  </tbody>\n",
       "</table>\n",
       "</div>"
      ],
      "text/plain": [
       "             ID  similarity\n",
       "0      achimnol    0.468912\n",
       "1     svenfuchs    0.449155\n",
       "2        milooy    0.445033\n",
       "3  sindresorhus    0.443336\n",
       "4         matej    0.439431\n",
       "5          xnuk    0.432607\n",
       "6        wangsy    0.432470\n",
       "7      yomybaby    0.431865\n",
       "8   donnemartin    0.430913\n",
       "9      atomaths    0.427690"
      ]
     },
     "execution_count": 24,
     "metadata": {},
     "output_type": "execute_result"
    }
   ],
   "source": [
    "recommend_please(\"LeoHeo\") "
   ]
  },
  {
   "cell_type": "code",
   "execution_count": 52,
   "metadata": {
    "collapsed": false,
    "scrolled": true
   },
   "outputs": [
    {
     "name": "stdout",
     "output_type": "stream",
     "text": [
      "zzsza님이 본받을만한 리스트입니다\n",
      "Wall time: 16.7 s\n"
     ]
    },
    {
     "data": {
      "text/html": [
       "<div>\n",
       "<table border=\"1\" class=\"dataframe\">\n",
       "  <thead>\n",
       "    <tr style=\"text-align: right;\">\n",
       "      <th></th>\n",
       "      <th>ID</th>\n",
       "      <th>similarity</th>\n",
       "    </tr>\n",
       "  </thead>\n",
       "  <tbody>\n",
       "    <tr>\n",
       "      <th>0</th>\n",
       "      <td>mgood</td>\n",
       "      <td>0.560002</td>\n",
       "    </tr>\n",
       "    <tr>\n",
       "      <th>1</th>\n",
       "      <td>ccgus</td>\n",
       "      <td>0.557889</td>\n",
       "    </tr>\n",
       "    <tr>\n",
       "      <th>2</th>\n",
       "      <td>seapy</td>\n",
       "      <td>0.535680</td>\n",
       "    </tr>\n",
       "    <tr>\n",
       "      <th>3</th>\n",
       "      <td>avelino</td>\n",
       "      <td>0.531632</td>\n",
       "    </tr>\n",
       "    <tr>\n",
       "      <th>4</th>\n",
       "      <td>jamztang</td>\n",
       "      <td>0.526305</td>\n",
       "    </tr>\n",
       "    <tr>\n",
       "      <th>5</th>\n",
       "      <td>carpedm20</td>\n",
       "      <td>0.524567</td>\n",
       "    </tr>\n",
       "    <tr>\n",
       "      <th>6</th>\n",
       "      <td>typicode</td>\n",
       "      <td>0.522956</td>\n",
       "    </tr>\n",
       "    <tr>\n",
       "      <th>7</th>\n",
       "      <td>wesm</td>\n",
       "      <td>0.521345</td>\n",
       "    </tr>\n",
       "    <tr>\n",
       "      <th>8</th>\n",
       "      <td>plusjade</td>\n",
       "      <td>0.521299</td>\n",
       "    </tr>\n",
       "    <tr>\n",
       "      <th>9</th>\n",
       "      <td>yulu</td>\n",
       "      <td>0.520441</td>\n",
       "    </tr>\n",
       "  </tbody>\n",
       "</table>\n",
       "</div>"
      ],
      "text/plain": [
       "          ID  similarity\n",
       "0      mgood    0.560002\n",
       "1      ccgus    0.557889\n",
       "2      seapy    0.535680\n",
       "3    avelino    0.531632\n",
       "4   jamztang    0.526305\n",
       "5  carpedm20    0.524567\n",
       "6   typicode    0.522956\n",
       "7       wesm    0.521345\n",
       "8   plusjade    0.521299\n",
       "9       yulu    0.520441"
      ]
     },
     "execution_count": 52,
     "metadata": {},
     "output_type": "execute_result"
    }
   ],
   "source": [
    "%%time\n",
    "recommend_please(\"zzsza\")"
   ]
  },
  {
   "cell_type": "code",
   "execution_count": 25,
   "metadata": {
    "collapsed": false
   },
   "outputs": [
    {
     "name": "stdout",
     "output_type": "stream",
     "text": [
      "milooy님이 본받을만한 리스트입니다\n",
      "Wall time: 23.2 s\n"
     ]
    },
    {
     "data": {
      "text/html": [
       "<div>\n",
       "<table border=\"1\" class=\"dataframe\">\n",
       "  <thead>\n",
       "    <tr style=\"text-align: right;\">\n",
       "      <th></th>\n",
       "      <th>ID</th>\n",
       "      <th>similarity</th>\n",
       "    </tr>\n",
       "  </thead>\n",
       "  <tbody>\n",
       "    <tr>\n",
       "      <th>0</th>\n",
       "      <td>nvbn</td>\n",
       "      <td>0.841961</td>\n",
       "    </tr>\n",
       "    <tr>\n",
       "      <th>1</th>\n",
       "      <td>avelino</td>\n",
       "      <td>0.828470</td>\n",
       "    </tr>\n",
       "    <tr>\n",
       "      <th>2</th>\n",
       "      <td>rampa069</td>\n",
       "      <td>0.826146</td>\n",
       "    </tr>\n",
       "    <tr>\n",
       "      <th>3</th>\n",
       "      <td>kennethreitz</td>\n",
       "      <td>0.822340</td>\n",
       "    </tr>\n",
       "    <tr>\n",
       "      <th>4</th>\n",
       "      <td>dahlia</td>\n",
       "      <td>0.821001</td>\n",
       "    </tr>\n",
       "    <tr>\n",
       "      <th>5</th>\n",
       "      <td>outsideris</td>\n",
       "      <td>0.816169</td>\n",
       "    </tr>\n",
       "    <tr>\n",
       "      <th>6</th>\n",
       "      <td>junegunn</td>\n",
       "      <td>0.814826</td>\n",
       "    </tr>\n",
       "    <tr>\n",
       "      <th>7</th>\n",
       "      <td>fogleman</td>\n",
       "      <td>0.813660</td>\n",
       "    </tr>\n",
       "    <tr>\n",
       "      <th>8</th>\n",
       "      <td>jaredpar</td>\n",
       "      <td>0.811662</td>\n",
       "    </tr>\n",
       "    <tr>\n",
       "      <th>9</th>\n",
       "      <td>mathiasbynens</td>\n",
       "      <td>0.809350</td>\n",
       "    </tr>\n",
       "  </tbody>\n",
       "</table>\n",
       "</div>"
      ],
      "text/plain": [
       "              ID  similarity\n",
       "0           nvbn    0.841961\n",
       "1        avelino    0.828470\n",
       "2       rampa069    0.826146\n",
       "3   kennethreitz    0.822340\n",
       "4         dahlia    0.821001\n",
       "5     outsideris    0.816169\n",
       "6       junegunn    0.814826\n",
       "7       fogleman    0.813660\n",
       "8       jaredpar    0.811662\n",
       "9  mathiasbynens    0.809350"
      ]
     },
     "execution_count": 25,
     "metadata": {},
     "output_type": "execute_result"
    }
   ],
   "source": [
    "%%time\n",
    "recommend_please(\"milooy\")"
   ]
  },
  {
   "cell_type": "code",
   "execution_count": 53,
   "metadata": {
    "collapsed": false
   },
   "outputs": [
    {
     "name": "stdout",
     "output_type": "stream",
     "text": [
      "dobestan님이 본받을만한 리스트입니다\n"
     ]
    },
    {
     "data": {
      "text/html": [
       "<div>\n",
       "<table border=\"1\" class=\"dataframe\">\n",
       "  <thead>\n",
       "    <tr style=\"text-align: right;\">\n",
       "      <th></th>\n",
       "      <th>ID</th>\n",
       "      <th>similarity</th>\n",
       "    </tr>\n",
       "  </thead>\n",
       "  <tbody>\n",
       "    <tr>\n",
       "      <th>0</th>\n",
       "      <td>nvbn</td>\n",
       "      <td>0.918950</td>\n",
       "    </tr>\n",
       "    <tr>\n",
       "      <th>1</th>\n",
       "      <td>dahlia</td>\n",
       "      <td>0.904850</td>\n",
       "    </tr>\n",
       "    <tr>\n",
       "      <th>2</th>\n",
       "      <td>mathiasbynens</td>\n",
       "      <td>0.900723</td>\n",
       "    </tr>\n",
       "    <tr>\n",
       "      <th>3</th>\n",
       "      <td>lqez</td>\n",
       "      <td>0.898805</td>\n",
       "    </tr>\n",
       "    <tr>\n",
       "      <th>4</th>\n",
       "      <td>seapy</td>\n",
       "      <td>0.893952</td>\n",
       "    </tr>\n",
       "    <tr>\n",
       "      <th>5</th>\n",
       "      <td>avelino</td>\n",
       "      <td>0.893540</td>\n",
       "    </tr>\n",
       "    <tr>\n",
       "      <th>6</th>\n",
       "      <td>kennethreitz</td>\n",
       "      <td>0.892337</td>\n",
       "    </tr>\n",
       "    <tr>\n",
       "      <th>7</th>\n",
       "      <td>muan</td>\n",
       "      <td>0.892194</td>\n",
       "    </tr>\n",
       "    <tr>\n",
       "      <th>8</th>\n",
       "      <td>sublee</td>\n",
       "      <td>0.892017</td>\n",
       "    </tr>\n",
       "    <tr>\n",
       "      <th>9</th>\n",
       "      <td>tomchristie</td>\n",
       "      <td>0.890734</td>\n",
       "    </tr>\n",
       "  </tbody>\n",
       "</table>\n",
       "</div>"
      ],
      "text/plain": [
       "              ID  similarity\n",
       "0           nvbn    0.918950\n",
       "1         dahlia    0.904850\n",
       "2  mathiasbynens    0.900723\n",
       "3           lqez    0.898805\n",
       "4          seapy    0.893952\n",
       "5        avelino    0.893540\n",
       "6   kennethreitz    0.892337\n",
       "7           muan    0.892194\n",
       "8         sublee    0.892017\n",
       "9    tomchristie    0.890734"
      ]
     },
     "execution_count": 53,
     "metadata": {},
     "output_type": "execute_result"
    }
   ],
   "source": [
    "recommend_please(\"dobestan\") "
   ]
  },
  {
   "cell_type": "code",
   "execution_count": null,
   "metadata": {
    "collapsed": true
   },
   "outputs": [],
   "source": []
  }
 ],
 "metadata": {
  "kernelspec": {
   "display_name": "Python 3",
   "language": "python",
   "name": "python3"
  },
  "language_info": {
   "codemirror_mode": {
    "name": "ipython",
    "version": 3
   },
   "file_extension": ".py",
   "mimetype": "text/x-python",
   "name": "python",
   "nbconvert_exporter": "python",
   "pygments_lexer": "ipython3",
   "version": "3.5.1"
  }
 },
 "nbformat": 4,
 "nbformat_minor": 0
}
